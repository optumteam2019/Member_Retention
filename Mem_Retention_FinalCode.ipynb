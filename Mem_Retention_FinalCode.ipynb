{
 "cells": [
  {
   "cell_type": "markdown",
   "metadata": {},
   "source": [
    "# Importing Python Modules and libraries"
   ]
  },
  {
   "cell_type": "code",
   "execution_count": 3,
   "metadata": {},
   "outputs": [],
   "source": [
    "import os\n",
    "from collections import Counter\n",
    "import numpy as np \n",
    "import pandas as pd \n",
    "from sklearn import preprocessing\n",
    "from sklearn.preprocessing import PowerTransformer, Normalizer, StandardScaler\n",
    "from sklearn.model_selection import train_test_split, cross_val_score\n",
    "from sklearn.linear_model import LogisticRegression\n",
    "from sklearn.metrics import accuracy_score, confusion_matrix, classification_report\n",
    "import matplotlib.pyplot as plt\n",
    "plt.rc(\"font\", size=14)\n",
    "import seaborn as sns\n",
    "from scipy import stats\n",
    "sns.set(color_codes=True)"
   ]
  },
  {
   "cell_type": "code",
   "execution_count": 4,
   "metadata": {
    "scrolled": false
   },
   "outputs": [],
   "source": [
    "data1=pd.read_fwf(r\"C:\\Users\\naggar25\\Desktop\\work.txt\",error_bad_lines=False,nrows=100000,delimiter='')"
   ]
  },
  {
   "cell_type": "code",
   "execution_count": 5,
   "metadata": {},
   "outputs": [],
   "source": [
    "data=data1.copy()\n",
    "data.columns=np.arange(294)"
   ]
  },
  {
   "cell_type": "markdown",
   "metadata": {},
   "source": [
    "# Data Extraction from Given File"
   ]
  },
  {
   "cell_type": "code",
   "execution_count": 6,
   "metadata": {},
   "outputs": [],
   "source": [
    "String_list=data[10].copy()\n",
    "m=(data.loc[1,10])\n",
    "type(m)\n",
    "k=list(m)"
   ]
  },
  {
   "cell_type": "code",
   "execution_count": 7,
   "metadata": {},
   "outputs": [],
   "source": [
    "Data2=data[71].copy()\n",
    "Date1=[]\n",
    "Date2=[]\n",
    "for num in Data2:\n",
    "    m=num%100000000\n",
    "    num=num-m\n",
    "    k=num/100000000\n",
    "    Date1.append(k)\n",
    "    Date2.append(m)\n",
    "data['Medical Begin Date']=Date1\n",
    "data['Medical End Date']=Date2\n"
   ]
  },
  {
   "cell_type": "code",
   "execution_count": 8,
   "metadata": {},
   "outputs": [],
   "source": [
    "def label_race1 (data):\n",
    "   if data['PlanD End']==\"99999999\" or data['PlanD End']==\"20190531\":\n",
    "      return 1\n",
    "   return 0"
   ]
  },
  {
   "cell_type": "code",
   "execution_count": 9,
   "metadata": {},
   "outputs": [],
   "source": [
    "Data3=data[75].copy()\n",
    "PBP_id=[]\n",
    "CMS_contract_id=[]\n",
    "Sign_date=[]\n",
    "Election_code=[]\n",
    "Application_recieve_date=[]\n",
    "for l in Data3:\n",
    "    i=list(l)\n",
    "    Application_recieve_date.append(i[-1:-9])\n",
    "    Election_code.append(i[-9:-10])\n",
    "    Sign_date.append(i[-10:])"
   ]
  },
  {
   "cell_type": "code",
   "execution_count": 10,
   "metadata": {
    "scrolled": false
   },
   "outputs": [],
   "source": [
    "Birth_Date=[]\n",
    "Death_Date=[]\n",
    "Gender=[]\n",
    "Marital_Status=[]\n",
    "CMOS_Status=[]\n",
    "k=0\n",
    "for l in String_list:\n",
    "    #print(type(l))\n",
    "    i=list(l)\n",
    "    #print(type(i))\n",
    "    birth=\"\"\n",
    "    death=\"\"\n",
    "    gender=\"\"\n",
    "    marital=\"\"\n",
    "    cosmo=\"\"\n",
    "    birth=birth.join(i[0:8])\n",
    "    death=death.join(i[8:16])\n",
    "    gender=gender.join(i[16:17])\n",
    "    marital=marital.join(i[17:18])\n",
    "    cosmo=cosmo.join(i[18:20])\n",
    "    Birth_Date.insert(k,birth)\n",
    "    Death_Date.append(death)\n",
    "    Gender.append(gender)\n",
    "    Marital_Status.append(marital)\n",
    "    CMOS_Status.append(cosmo)\n",
    "    k=k+1"
   ]
  },
  {
   "cell_type": "code",
   "execution_count": 11,
   "metadata": {},
   "outputs": [],
   "source": [
    "data['Birth Date']=Birth_Date\n",
    "data['Death Date']=Death_Date\n",
    "data['Gender']=Gender\n",
    "data['Marital Status']=Marital_Status\n",
    "data['CMOS']=CMOS_Status\n",
    "data.rename(columns={0:'Transaction Identifier',1:'State Code',2:'GPS Member Number',3:'Alternate Employee ID',5:'HIC No. Eff Date',6:'Medicaid Number',7:'Last Name',8:'First Name',80:'PBP ID',81:\n",
    "                    'CMS Contract ID',72:'Cancel Reason Code',20:'CMS Geocode',69:'Reciever Medical Coverage Identifier',70:'Reciever medical Coverage(2)',77:'Deleivery Preference',79:'Medical PCP Sequence Number',82:'Signature Date',64:'Billing Cycle',67:'Interest State',68:'Sequence number'},inplace=True)"
   ]
  },
  {
   "cell_type": "code",
   "execution_count": 12,
   "metadata": {},
   "outputs": [],
   "source": [
    "#Extract columns to form  new dataframe as per need of model.\n",
    "Data=data[4].copy()\n",
    "#print(Data)\n",
    "Mem_SSN=[]\n",
    "Medicare_no=[]\n",
    "for l in Data:\n",
    "    i=list(l)\n",
    "    mem=\"\"\n",
    "    medi=\"\"\n",
    "    mem=mem.join(i[0:9])\n",
    "    medi=medi.join(i[9:])\n",
    "    Mem_SSN.append(mem)\n",
    "    Medicare_no.append(medi)\n",
    "data['Member SSN Number']=Mem_SSN\n",
    "data['Medicare Number']=Medicare_no"
   ]
  },
  {
   "cell_type": "code",
   "execution_count": 13,
   "metadata": {},
   "outputs": [],
   "source": [
    "Data1=data[12].copy()\n",
    "date1=[]\n",
    "date2=[]\n",
    "Status=[]\n",
    "for i in Data1:\n",
    "    l=list(i)\n",
    "    d1=\"\"\n",
    "    d2=\"\"\n",
    "    s=\"\"\n",
    "    d1=d1.join(l[0:8])\n",
    "    d2=d2.join(l[8:16])\n",
    "    s=s.join(l[16:17])\n",
    "    date1.append(d1)\n",
    "    date2.append(d2)\n",
    "    Status.append(s)\n",
    "data['Permanent Address Begin Date']=date1\n",
    "data['Permanent Address End Date']=date2\n",
    "data['Foreign Permanent Address Indicator']=Status"
   ]
  },
  {
   "cell_type": "code",
   "execution_count": 14,
   "metadata": {},
   "outputs": [],
   "source": [
    "Data1=data[19].copy()\n",
    "State=[]\n",
    "zip_code=[]\n",
    "country_code=[]\n",
    "for i in Data1:\n",
    "    l=list(i)\n",
    "    d1=\"\"\n",
    "    d2=\"\"\n",
    "    s=\"\"\n",
    "    d1=d1.join(l[0:2])\n",
    "    d2=d2.join(l[2:11])\n",
    "    s=s.join(l[11:14])\n",
    "    State.append(d1)\n",
    "    zip_code.append(d2)\n",
    "    country_code.append(s)\n",
    "data['State']=State\n",
    "data['Zip Code']=zip_code\n",
    "data['County Code']=country_code"
   ]
  },
  {
   "cell_type": "code",
   "execution_count": 15,
   "metadata": {},
   "outputs": [],
   "source": [
    "data6=data[75].copy()\n",
    "PBP=[]\n",
    "CMS=[]\n",
    "Sign=[]\n",
    "ele=[]\n",
    "app=[]\n",
    "for i in data6:\n",
    "    j=str(i)\n",
    "    PBP.append(j[0:11])\n",
    "    CMS.append(j[11:16])\n",
    "    Sign.append(j[16:24])\n",
    "    ele.append(j[24:25])\n",
    "    app.append(j[25:33])\n",
    "data['PBP Id']=PBP\n",
    "data['CMS Contract ID']=CMS\n",
    "data['Signature Date']=Sign\n",
    "data['Election Code']=ele\n",
    "data['Application Form Recieve Date']=app\n",
    "#print(data['Signature Date'].head())"
   ]
  },
  {
   "cell_type": "code",
   "execution_count": 16,
   "metadata": {},
   "outputs": [],
   "source": [
    "data7=data[76].copy()\n",
    "PTI=[]\n",
    "for j in data7:\n",
    "        m=list(j)\n",
    "        PTI.append(m[3:4])\n",
    "data['Pending Transaction Indicator']=PTI    "
   ]
  },
  {
   "cell_type": "code",
   "execution_count": 17,
   "metadata": {},
   "outputs": [],
   "source": [
    "data8=data[223].copy()\n",
    "data9=data[224].copy()\n",
    "PlanAStart=[]\n",
    "PlanAEnd=[]\n",
    "PlanBStart=[]\n",
    "PlanBEnd=[]\n",
    "PlanDStart=[]\n",
    "PlanDEnd=[]\n",
    "CoverageFlag=[]\n",
    "Month=[]\n",
    "Lis=[]\n",
    "for m in data8:\n",
    "    l=str(m)\n",
    "    PlanAStart.append(l[0:8])\n",
    "    PlanAEnd.append(l[8:16])\n",
    "    PlanBStart.append(l[16:24])\n",
    "    PlanBEnd.append(l[24:32])\n",
    "data['PlanAStart']=PlanAStart \n",
    "data['PlanAEnd']=PlanAEnd \n",
    "data['PlanBStart']=PlanBStart\n",
    "data['PlanBEnd']=PlanBEnd \n",
    "for k in data9:\n",
    "        l=str(k)\n",
    "        PlanDStart.append(l[16:24])\n",
    "        PlanDEnd.append(l[24:32])\n",
    "        CoverageFlag.append(l[32:33])\n",
    "        Month.append(l[33:36])\n",
    "        Lis.append(l[36:39])\n",
    "data['PlanD Start Date']=PlanDStart\n",
    "data['PlanD End']=PlanDEnd\n",
    "data['Creditable Coverage Flag']=CoverageFlag\n",
    "data['Number Uncovered Month']=Month\n",
    "data['LIS Percent']=Lis"
   ]
  },
  {
   "cell_type": "code",
   "execution_count": 18,
   "metadata": {},
   "outputs": [
    {
     "data": {
      "text/plain": [
       "array(['20190101', '20200101', '20180101', '20170101', '20190301',\n",
       "       '20190201', '20190501', '20150101', '20190401', '20160101',\n",
       "       '20180301', '20180601', '20180401', '20171201', '20180201',\n",
       "       '20180801', '20180701', '20160201', '20151101', '20150901',\n",
       "       '20161101', '20160401', '20150501', '20150701', '20151001',\n",
       "       '20150201', '20170901', '20181101', '20120701', '20100801',\n",
       "       '20140301', '20110101', '20110801', '20160601', '20171101',\n",
       "       '20150801', '20130101', '20101001', '20181001', '20101201',\n",
       "       '20120101', '20110201', '20110301', '20110501', '20110401',\n",
       "       '20110601', '20170701', '20110701', '20160301', '20110901',\n",
       "       '20170601', '20111001', '20180501', '20170501', '20170801',\n",
       "       '20161201', '20161001', '20150601', '20120201', '20120301',\n",
       "       '20120501', '20120401', '20120601', '20120801', '20120901',\n",
       "       '20170301', '20121201', '20140101', '20151201', '20160501',\n",
       "       '20130201', '20130301', '20181201', '20141101', '20130901',\n",
       "       '20130601', '20130701', '20180901', '20130801', '20131001',\n",
       "       '20131201', '20150401', '20160801', '20170401', '20140501',\n",
       "       '20140701', '20140601', '20140801', '20141001', '20140901',\n",
       "       '20141201', '20150301'], dtype=object)"
      ]
     },
     "execution_count": 18,
     "metadata": {},
     "output_type": "execute_result"
    }
   ],
   "source": [
    "data['PlanD Start Date'].unique()"
   ]
  },
  {
   "cell_type": "code",
   "execution_count": 19,
   "metadata": {},
   "outputs": [
    {
     "name": "stdout",
     "output_type": "stream",
     "text": [
      "5717    20110601 99999999\n",
      "5750    20110601 99999999\n",
      "dtype: object\n"
     ]
    }
   ],
   "source": [
    "#the dataset we are provided is merged with non retain members dataset\n",
    "#thus,members who are retaining have value for retain 0 and vice versa\n",
    "g=np.array(np.where(data['PlanD Start Date']=='20110601'))\n",
    "for i in g:\n",
    "    print(data.loc[i,'PlanD Start Date']+\" \"+data.loc[i,'PlanD End'])"
   ]
  },
  {
   "cell_type": "code",
   "execution_count": 20,
   "metadata": {},
   "outputs": [],
   "source": [
    "data['Retain_D']=data.apply (lambda data: label_race1(data), axis=1)"
   ]
  },
  {
   "cell_type": "code",
   "execution_count": 21,
   "metadata": {},
   "outputs": [
    {
     "name": "stdout",
     "output_type": "stream",
     "text": [
      "Retention Rate from previous year 88.725\n"
     ]
    }
   ],
   "source": [
    "data['Retain_D'].unique()\n",
    "cnt=0\n",
    "m=len(data.index)\n",
    "for i in range (0,m):\n",
    "      if data.loc[i,'Retain_D']:\n",
    "            cnt=cnt+1\n",
    "total_retention=cnt\n",
    "print(\"Retention Rate from previous year\",(cnt/m)*100)"
   ]
  },
  {
   "cell_type": "markdown",
   "metadata": {},
   "source": [
    "# Exploratory Data Analysis \n",
    "refers to the critical process of performing initial investigations on data so as to discover patterns,to spot anomalies,to test hypothesis and to check assumptions with the help of summary statistics and graphical representations.\n",
    "It is a good practice to understand the data first and try to gather as many insights from it. EDA is all about making sense of data in hand,before getting them dirty with it."
   ]
  },
  {
   "cell_type": "code",
   "execution_count": 22,
   "metadata": {
    "scrolled": true
   },
   "outputs": [
    {
     "data": {
      "text/html": [
       "<div>\n",
       "<style scoped>\n",
       "    .dataframe tbody tr th:only-of-type {\n",
       "        vertical-align: middle;\n",
       "    }\n",
       "\n",
       "    .dataframe tbody tr th {\n",
       "        vertical-align: top;\n",
       "    }\n",
       "\n",
       "    .dataframe thead th {\n",
       "        text-align: right;\n",
       "    }\n",
       "</style>\n",
       "<table border=\"1\" class=\"dataframe\">\n",
       "  <thead>\n",
       "    <tr style=\"text-align: right;\">\n",
       "      <th></th>\n",
       "      <th>Transaction Identifier</th>\n",
       "      <th>State Code</th>\n",
       "      <th>GPS Member Number</th>\n",
       "      <th>Alternate Employee ID</th>\n",
       "      <th>4</th>\n",
       "      <th>HIC No. Eff Date</th>\n",
       "      <th>Medicaid Number</th>\n",
       "      <th>Last Name</th>\n",
       "      <th>First Name</th>\n",
       "      <th>9</th>\n",
       "      <th>...</th>\n",
       "      <th>PlanAStart</th>\n",
       "      <th>PlanAEnd</th>\n",
       "      <th>PlanBStart</th>\n",
       "      <th>PlanBEnd</th>\n",
       "      <th>PlanD Start Date</th>\n",
       "      <th>PlanD End</th>\n",
       "      <th>Creditable Coverage Flag</th>\n",
       "      <th>Number Uncovered Month</th>\n",
       "      <th>LIS Percent</th>\n",
       "      <th>Retain_D</th>\n",
       "    </tr>\n",
       "  </thead>\n",
       "  <tbody>\n",
       "    <tr>\n",
       "      <th>0</th>\n",
       "      <td>D                    F</td>\n",
       "      <td>000000000000000000ME</td>\n",
       "      <td>801017056</td>\n",
       "      <td>94344653</td>\n",
       "      <td>0001465127Y37E07TR55</td>\n",
       "      <td>20071201</td>\n",
       "      <td>146D512C</td>\n",
       "      <td>EBFD</td>\n",
       "      <td>BDBFCBCEA</td>\n",
       "      <td>D</td>\n",
       "      <td>...</td>\n",
       "      <td>20080501</td>\n",
       "      <td>00000000</td>\n",
       "      <td>20080501</td>\n",
       "      <td>00000000</td>\n",
       "      <td>20190101</td>\n",
       "      <td>99999999</td>\n",
       "      <td>Y</td>\n",
       "      <td>000</td>\n",
       "      <td>000</td>\n",
       "      <td>1</td>\n",
       "    </tr>\n",
       "    <tr>\n",
       "      <th>1</th>\n",
       "      <td>D                    F</td>\n",
       "      <td>000000000000000000TN</td>\n",
       "      <td>801117305</td>\n",
       "      <td>412661271</td>\n",
       "      <td>0063251066JT3CC5ET87</td>\n",
       "      <td>20071201</td>\n",
       "      <td>632B51F06</td>\n",
       "      <td>CBFAD</td>\n",
       "      <td>CDABD</td>\n",
       "      <td>E</td>\n",
       "      <td>...</td>\n",
       "      <td>20040301</td>\n",
       "      <td>00000000</td>\n",
       "      <td>20040301</td>\n",
       "      <td>00000000</td>\n",
       "      <td>20190101</td>\n",
       "      <td>99999999</td>\n",
       "      <td>R</td>\n",
       "      <td>000</td>\n",
       "      <td>100</td>\n",
       "      <td>1</td>\n",
       "    </tr>\n",
       "    <tr>\n",
       "      <th>2</th>\n",
       "      <td>D                    F</td>\n",
       "      <td>000000000000000000FL</td>\n",
       "      <td>801191730</td>\n",
       "      <td>106569859</td>\n",
       "      <td>0000045056K12GC0AG05</td>\n",
       "      <td>20071201</td>\n",
       "      <td>F4E50D5FA</td>\n",
       "      <td>CBDBF</td>\n",
       "      <td>BDFED</td>\n",
       "      <td>D</td>\n",
       "      <td>...</td>\n",
       "      <td>19990901</td>\n",
       "      <td>00000000</td>\n",
       "      <td>19990901</td>\n",
       "      <td>00000000</td>\n",
       "      <td>20190101</td>\n",
       "      <td>99999999</td>\n",
       "      <td>Y</td>\n",
       "      <td>000</td>\n",
       "      <td>000</td>\n",
       "      <td>1</td>\n",
       "    </tr>\n",
       "    <tr>\n",
       "      <th>3</th>\n",
       "      <td>D                    F</td>\n",
       "      <td>000000000000000000NC</td>\n",
       "      <td>801428420</td>\n",
       "      <td>237407951</td>\n",
       "      <td>0047238633FD6HD9XV77</td>\n",
       "      <td>20071201</td>\n",
       "      <td>472F3F863</td>\n",
       "      <td>BDDEAFD</td>\n",
       "      <td>ECCFF</td>\n",
       "      <td>E</td>\n",
       "      <td>...</td>\n",
       "      <td>19950101</td>\n",
       "      <td>00000000</td>\n",
       "      <td>19950101</td>\n",
       "      <td>00000000</td>\n",
       "      <td>20200101</td>\n",
       "      <td>99999999</td>\n",
       "      <td>R</td>\n",
       "      <td>000</td>\n",
       "      <td>000</td>\n",
       "      <td>1</td>\n",
       "    </tr>\n",
       "    <tr>\n",
       "      <th>4</th>\n",
       "      <td>D                    F</td>\n",
       "      <td>000000000000000000MO</td>\n",
       "      <td>801472609</td>\n",
       "      <td>498206653</td>\n",
       "      <td>0007738839GT7WR3FQ45</td>\n",
       "      <td>20071201</td>\n",
       "      <td>77B3E883A</td>\n",
       "      <td>EEBFEF</td>\n",
       "      <td>CBFAEB</td>\n",
       "      <td>NaN</td>\n",
       "      <td>...</td>\n",
       "      <td>19921101</td>\n",
       "      <td>00000000</td>\n",
       "      <td>19921101</td>\n",
       "      <td>00000000</td>\n",
       "      <td>20190101</td>\n",
       "      <td>20190101</td>\n",
       "      <td>Y</td>\n",
       "      <td>000</td>\n",
       "      <td>000</td>\n",
       "      <td>0</td>\n",
       "    </tr>\n",
       "  </tbody>\n",
       "</table>\n",
       "<p>5 rows × 323 columns</p>\n",
       "</div>"
      ],
      "text/plain": [
       "   Transaction Identifier            State Code  GPS Member Number  \\\n",
       "0  D                    F  000000000000000000ME          801017056   \n",
       "1  D                    F  000000000000000000TN          801117305   \n",
       "2  D                    F  000000000000000000FL          801191730   \n",
       "3  D                    F  000000000000000000NC          801428420   \n",
       "4  D                    F  000000000000000000MO          801472609   \n",
       "\n",
       "   Alternate Employee ID                     4  HIC No. Eff Date  \\\n",
       "0               94344653  0001465127Y37E07TR55          20071201   \n",
       "1              412661271  0063251066JT3CC5ET87          20071201   \n",
       "2              106569859  0000045056K12GC0AG05          20071201   \n",
       "3              237407951  0047238633FD6HD9XV77          20071201   \n",
       "4              498206653  0007738839GT7WR3FQ45          20071201   \n",
       "\n",
       "  Medicaid Number Last Name First Name    9  ... PlanAStart  PlanAEnd  \\\n",
       "0        146D512C      EBFD  BDBFCBCEA    D  ...   20080501  00000000   \n",
       "1       632B51F06     CBFAD      CDABD    E  ...   20040301  00000000   \n",
       "2       F4E50D5FA     CBDBF      BDFED    D  ...   19990901  00000000   \n",
       "3       472F3F863   BDDEAFD      ECCFF    E  ...   19950101  00000000   \n",
       "4       77B3E883A    EEBFEF     CBFAEB  NaN  ...   19921101  00000000   \n",
       "\n",
       "  PlanBStart  PlanBEnd PlanD Start Date  PlanD End Creditable Coverage Flag  \\\n",
       "0   20080501  00000000         20190101   99999999                        Y   \n",
       "1   20040301  00000000         20190101   99999999                        R   \n",
       "2   19990901  00000000         20190101   99999999                        Y   \n",
       "3   19950101  00000000         20200101   99999999                        R   \n",
       "4   19921101  00000000         20190101   20190101                        Y   \n",
       "\n",
       "  Number Uncovered Month LIS Percent Retain_D  \n",
       "0                    000         000        1  \n",
       "1                    000         100        1  \n",
       "2                    000         000        1  \n",
       "3                    000         000        1  \n",
       "4                    000         000        0  \n",
       "\n",
       "[5 rows x 323 columns]"
      ]
     },
     "execution_count": 22,
     "metadata": {},
     "output_type": "execute_result"
    }
   ],
   "source": [
    "data.head()"
   ]
  },
  {
   "cell_type": "code",
   "execution_count": 23,
   "metadata": {},
   "outputs": [
    {
     "data": {
      "text/plain": [
       "Index([  'Transaction Identifier',               'State Code',\n",
       "              'GPS Member Number',    'Alternate Employee ID',\n",
       "                                4,         'HIC No. Eff Date',\n",
       "                'Medicaid Number',                'Last Name',\n",
       "                     'First Name',                          9,\n",
       "       ...\n",
       "                     'PlanAStart',                 'PlanAEnd',\n",
       "                     'PlanBStart',                 'PlanBEnd',\n",
       "               'PlanD Start Date',                'PlanD End',\n",
       "       'Creditable Coverage Flag',   'Number Uncovered Month',\n",
       "                    'LIS Percent',                 'Retain_D'],\n",
       "      dtype='object', length=323)"
      ]
     },
     "execution_count": 23,
     "metadata": {},
     "output_type": "execute_result"
    }
   ],
   "source": [
    "data.columns"
   ]
  },
  {
   "cell_type": "code",
   "execution_count": 24,
   "metadata": {},
   "outputs": [
    {
     "data": {
      "text/plain": [
       "(20000, 323)"
      ]
     },
     "execution_count": 24,
     "metadata": {},
     "output_type": "execute_result"
    }
   ],
   "source": [
    "data.shape"
   ]
  },
  {
   "cell_type": "code",
   "execution_count": 25,
   "metadata": {},
   "outputs": [
    {
     "name": "stdout",
     "output_type": "stream",
     "text": [
      "<class 'pandas.core.frame.DataFrame'>\n",
      "RangeIndex: 20000 entries, 0 to 19999\n",
      "Columns: 323 entries, Transaction Identifier to Retain_D\n",
      "dtypes: float64(58), int64(136), object(129)\n",
      "memory usage: 49.3+ MB\n"
     ]
    }
   ],
   "source": [
    "data.info()"
   ]
  },
  {
   "cell_type": "code",
   "execution_count": 26,
   "metadata": {
    "scrolled": true
   },
   "outputs": [
    {
     "data": {
      "text/html": [
       "<div>\n",
       "<style scoped>\n",
       "    .dataframe tbody tr th:only-of-type {\n",
       "        vertical-align: middle;\n",
       "    }\n",
       "\n",
       "    .dataframe tbody tr th {\n",
       "        vertical-align: top;\n",
       "    }\n",
       "\n",
       "    .dataframe thead th {\n",
       "        text-align: right;\n",
       "    }\n",
       "</style>\n",
       "<table border=\"1\" class=\"dataframe\">\n",
       "  <thead>\n",
       "    <tr style=\"text-align: right;\">\n",
       "      <th></th>\n",
       "      <th>GPS Member Number</th>\n",
       "      <th>Alternate Employee ID</th>\n",
       "      <th>HIC No. Eff Date</th>\n",
       "      <th>15</th>\n",
       "      <th>CMS Geocode</th>\n",
       "      <th>23</th>\n",
       "      <th>28</th>\n",
       "      <th>31</th>\n",
       "      <th>36</th>\n",
       "      <th>40</th>\n",
       "      <th>...</th>\n",
       "      <th>287</th>\n",
       "      <th>288</th>\n",
       "      <th>289</th>\n",
       "      <th>290</th>\n",
       "      <th>291</th>\n",
       "      <th>292</th>\n",
       "      <th>293</th>\n",
       "      <th>Medical Begin Date</th>\n",
       "      <th>Medical End Date</th>\n",
       "      <th>Retain_D</th>\n",
       "    </tr>\n",
       "  </thead>\n",
       "  <tbody>\n",
       "    <tr>\n",
       "      <th>count</th>\n",
       "      <td>2.000000e+04</td>\n",
       "      <td>2.000000e+04</td>\n",
       "      <td>2.000000e+04</td>\n",
       "      <td>1124.0</td>\n",
       "      <td>20000.000000</td>\n",
       "      <td>743.0</td>\n",
       "      <td>9075.000000</td>\n",
       "      <td>424.0</td>\n",
       "      <td>3923.000000</td>\n",
       "      <td>220.0</td>\n",
       "      <td>...</td>\n",
       "      <td>20000.0</td>\n",
       "      <td>20000.0</td>\n",
       "      <td>20000.0</td>\n",
       "      <td>20000.0</td>\n",
       "      <td>20000.0</td>\n",
       "      <td>20000.0</td>\n",
       "      <td>20000.0</td>\n",
       "      <td>2.000000e+04</td>\n",
       "      <td>2.000000e+04</td>\n",
       "      <td>20000.000000</td>\n",
       "    </tr>\n",
       "    <tr>\n",
       "      <th>mean</th>\n",
       "      <td>9.217643e+08</td>\n",
       "      <td>8.878212e+08</td>\n",
       "      <td>2.012298e+07</td>\n",
       "      <td>10.0</td>\n",
       "      <td>26236.870950</td>\n",
       "      <td>10.0</td>\n",
       "      <td>25024.503251</td>\n",
       "      <td>10.0</td>\n",
       "      <td>24326.027785</td>\n",
       "      <td>10.0</td>\n",
       "      <td>...</td>\n",
       "      <td>0.0</td>\n",
       "      <td>0.0</td>\n",
       "      <td>0.0</td>\n",
       "      <td>0.0</td>\n",
       "      <td>0.0</td>\n",
       "      <td>0.0</td>\n",
       "      <td>0.0</td>\n",
       "      <td>2.018060e+07</td>\n",
       "      <td>9.099717e+07</td>\n",
       "      <td>0.887250</td>\n",
       "    </tr>\n",
       "    <tr>\n",
       "      <th>std</th>\n",
       "      <td>4.703667e+07</td>\n",
       "      <td>1.548941e+08</td>\n",
       "      <td>2.438774e+04</td>\n",
       "      <td>0.0</td>\n",
       "      <td>15247.681208</td>\n",
       "      <td>0.0</td>\n",
       "      <td>15384.159064</td>\n",
       "      <td>0.0</td>\n",
       "      <td>15207.649506</td>\n",
       "      <td>0.0</td>\n",
       "      <td>...</td>\n",
       "      <td>0.0</td>\n",
       "      <td>0.0</td>\n",
       "      <td>0.0</td>\n",
       "      <td>0.0</td>\n",
       "      <td>0.0</td>\n",
       "      <td>0.0</td>\n",
       "      <td>0.0</td>\n",
       "      <td>1.772419e+04</td>\n",
       "      <td>2.524911e+07</td>\n",
       "      <td>0.316295</td>\n",
       "    </tr>\n",
       "    <tr>\n",
       "      <th>min</th>\n",
       "      <td>6.219300e+05</td>\n",
       "      <td>4.670000e+02</td>\n",
       "      <td>2.007120e+07</td>\n",
       "      <td>10.0</td>\n",
       "      <td>1000.000000</td>\n",
       "      <td>10.0</td>\n",
       "      <td>0.000000</td>\n",
       "      <td>10.0</td>\n",
       "      <td>0.000000</td>\n",
       "      <td>10.0</td>\n",
       "      <td>...</td>\n",
       "      <td>0.0</td>\n",
       "      <td>0.0</td>\n",
       "      <td>0.0</td>\n",
       "      <td>0.0</td>\n",
       "      <td>0.0</td>\n",
       "      <td>0.0</td>\n",
       "      <td>0.0</td>\n",
       "      <td>2.010080e+07</td>\n",
       "      <td>2.018063e+07</td>\n",
       "      <td>0.000000</td>\n",
       "    </tr>\n",
       "    <tr>\n",
       "      <th>25%</th>\n",
       "      <td>9.068631e+08</td>\n",
       "      <td>9.040199e+08</td>\n",
       "      <td>2.010123e+07</td>\n",
       "      <td>10.0</td>\n",
       "      <td>11370.000000</td>\n",
       "      <td>10.0</td>\n",
       "      <td>11030.000000</td>\n",
       "      <td>10.0</td>\n",
       "      <td>11030.000000</td>\n",
       "      <td>10.0</td>\n",
       "      <td>...</td>\n",
       "      <td>0.0</td>\n",
       "      <td>0.0</td>\n",
       "      <td>0.0</td>\n",
       "      <td>0.0</td>\n",
       "      <td>0.0</td>\n",
       "      <td>0.0</td>\n",
       "      <td>0.0</td>\n",
       "      <td>2.018098e+07</td>\n",
       "      <td>1.000000e+08</td>\n",
       "      <td>1.000000</td>\n",
       "    </tr>\n",
       "    <tr>\n",
       "      <th>50%</th>\n",
       "      <td>9.313496e+08</td>\n",
       "      <td>9.293798e+08</td>\n",
       "      <td>2.013090e+07</td>\n",
       "      <td>10.0</td>\n",
       "      <td>26940.000000</td>\n",
       "      <td>10.0</td>\n",
       "      <td>23380.000000</td>\n",
       "      <td>10.0</td>\n",
       "      <td>19090.000000</td>\n",
       "      <td>10.0</td>\n",
       "      <td>...</td>\n",
       "      <td>0.0</td>\n",
       "      <td>0.0</td>\n",
       "      <td>0.0</td>\n",
       "      <td>0.0</td>\n",
       "      <td>0.0</td>\n",
       "      <td>0.0</td>\n",
       "      <td>0.0</td>\n",
       "      <td>2.019010e+07</td>\n",
       "      <td>1.000000e+08</td>\n",
       "      <td>1.000000</td>\n",
       "    </tr>\n",
       "    <tr>\n",
       "      <th>75%</th>\n",
       "      <td>9.553711e+08</td>\n",
       "      <td>9.543795e+08</td>\n",
       "      <td>2.014112e+07</td>\n",
       "      <td>10.0</td>\n",
       "      <td>38250.000000</td>\n",
       "      <td>10.0</td>\n",
       "      <td>36505.000000</td>\n",
       "      <td>10.0</td>\n",
       "      <td>36080.000000</td>\n",
       "      <td>10.0</td>\n",
       "      <td>...</td>\n",
       "      <td>0.0</td>\n",
       "      <td>0.0</td>\n",
       "      <td>0.0</td>\n",
       "      <td>0.0</td>\n",
       "      <td>0.0</td>\n",
       "      <td>0.0</td>\n",
       "      <td>0.0</td>\n",
       "      <td>2.019010e+07</td>\n",
       "      <td>1.000000e+08</td>\n",
       "      <td>1.000000</td>\n",
       "    </tr>\n",
       "    <tr>\n",
       "      <th>max</th>\n",
       "      <td>9.799992e+08</td>\n",
       "      <td>9.799992e+08</td>\n",
       "      <td>2.019041e+07</td>\n",
       "      <td>10.0</td>\n",
       "      <td>53190.000000</td>\n",
       "      <td>10.0</td>\n",
       "      <td>53190.000000</td>\n",
       "      <td>10.0</td>\n",
       "      <td>53060.000000</td>\n",
       "      <td>10.0</td>\n",
       "      <td>...</td>\n",
       "      <td>0.0</td>\n",
       "      <td>0.0</td>\n",
       "      <td>0.0</td>\n",
       "      <td>0.0</td>\n",
       "      <td>0.0</td>\n",
       "      <td>0.0</td>\n",
       "      <td>0.0</td>\n",
       "      <td>2.019050e+07</td>\n",
       "      <td>1.000000e+08</td>\n",
       "      <td>1.000000</td>\n",
       "    </tr>\n",
       "  </tbody>\n",
       "</table>\n",
       "<p>8 rows × 194 columns</p>\n",
       "</div>"
      ],
      "text/plain": [
       "       GPS Member Number  Alternate Employee ID  HIC No. Eff Date      15  \\\n",
       "count       2.000000e+04           2.000000e+04      2.000000e+04  1124.0   \n",
       "mean        9.217643e+08           8.878212e+08      2.012298e+07    10.0   \n",
       "std         4.703667e+07           1.548941e+08      2.438774e+04     0.0   \n",
       "min         6.219300e+05           4.670000e+02      2.007120e+07    10.0   \n",
       "25%         9.068631e+08           9.040199e+08      2.010123e+07    10.0   \n",
       "50%         9.313496e+08           9.293798e+08      2.013090e+07    10.0   \n",
       "75%         9.553711e+08           9.543795e+08      2.014112e+07    10.0   \n",
       "max         9.799992e+08           9.799992e+08      2.019041e+07    10.0   \n",
       "\n",
       "        CMS Geocode     23            28     31            36     40  ...  \\\n",
       "count  20000.000000  743.0   9075.000000  424.0   3923.000000  220.0  ...   \n",
       "mean   26236.870950   10.0  25024.503251   10.0  24326.027785   10.0  ...   \n",
       "std    15247.681208    0.0  15384.159064    0.0  15207.649506    0.0  ...   \n",
       "min     1000.000000   10.0      0.000000   10.0      0.000000   10.0  ...   \n",
       "25%    11370.000000   10.0  11030.000000   10.0  11030.000000   10.0  ...   \n",
       "50%    26940.000000   10.0  23380.000000   10.0  19090.000000   10.0  ...   \n",
       "75%    38250.000000   10.0  36505.000000   10.0  36080.000000   10.0  ...   \n",
       "max    53190.000000   10.0  53190.000000   10.0  53060.000000   10.0  ...   \n",
       "\n",
       "           287      288      289      290      291      292      293  \\\n",
       "count  20000.0  20000.0  20000.0  20000.0  20000.0  20000.0  20000.0   \n",
       "mean       0.0      0.0      0.0      0.0      0.0      0.0      0.0   \n",
       "std        0.0      0.0      0.0      0.0      0.0      0.0      0.0   \n",
       "min        0.0      0.0      0.0      0.0      0.0      0.0      0.0   \n",
       "25%        0.0      0.0      0.0      0.0      0.0      0.0      0.0   \n",
       "50%        0.0      0.0      0.0      0.0      0.0      0.0      0.0   \n",
       "75%        0.0      0.0      0.0      0.0      0.0      0.0      0.0   \n",
       "max        0.0      0.0      0.0      0.0      0.0      0.0      0.0   \n",
       "\n",
       "       Medical Begin Date  Medical End Date      Retain_D  \n",
       "count        2.000000e+04      2.000000e+04  20000.000000  \n",
       "mean         2.018060e+07      9.099717e+07      0.887250  \n",
       "std          1.772419e+04      2.524911e+07      0.316295  \n",
       "min          2.010080e+07      2.018063e+07      0.000000  \n",
       "25%          2.018098e+07      1.000000e+08      1.000000  \n",
       "50%          2.019010e+07      1.000000e+08      1.000000  \n",
       "75%          2.019010e+07      1.000000e+08      1.000000  \n",
       "max          2.019050e+07      1.000000e+08      1.000000  \n",
       "\n",
       "[8 rows x 194 columns]"
      ]
     },
     "execution_count": 26,
     "metadata": {},
     "output_type": "execute_result"
    }
   ],
   "source": [
    "data.describe()"
   ]
  },
  {
   "cell_type": "raw",
   "metadata": {},
   "source": [
    "There is notably a large difference between 75th %tile and max values of predictors.\n",
    "Thus observations 1 and 2 suggests that there are extreme values-Outliers in our data set."
   ]
  },
  {
   "cell_type": "code",
   "execution_count": 27,
   "metadata": {},
   "outputs": [],
   "source": [
    "#Dropping Unncessary Features(Containing ID's corresponding to unique Member ID)\n",
    "Drop_col=['HIC No. Eff Date','Sequence number','County Code', 'Medical PCP Sequence Number', 'PBP ID','CMS Contract ID', 'Signature Date','Application Form Recieve Date','Pending Transaction Indicator','Last Name','First Name']\n",
    "l=[4,9,10,11,12,13,14,15,16,17,18,19,65,66,73,71,74,75,76,78]\n",
    "k=np.arange(83,294)\n",
    "j=np.arange(21,64)\n",
    "data.drop(l, axis=1, inplace=True)\n",
    "data.drop(k, axis=1, inplace=True)\n",
    "data.drop(j, axis=1, inplace=True)\n",
    "data.drop(Drop_col,inplace=True,axis=1)"
   ]
  },
  {
   "cell_type": "code",
   "execution_count": 28,
   "metadata": {},
   "outputs": [],
   "source": [
    "data['State Code']=data['State Code'].str.strip('0')\n",
    "data['Transaction Identifier']=data['Transaction Identifier'].str.strip(\"D\")"
   ]
  },
  {
   "cell_type": "markdown",
   "metadata": {},
   "source": [
    "# Missing Data Values Imputation"
   ]
  },
  {
   "cell_type": "code",
   "execution_count": 29,
   "metadata": {},
   "outputs": [
    {
     "name": "stdout",
     "output_type": "stream",
     "text": [
      "\n",
      "UNIQUE:\n",
      "\n",
      " Transaction Identifier                      1\n",
      "State Code                                 51\n",
      "GPS Member Number                       20000\n",
      "Alternate Employee ID                   20000\n",
      "Medicaid Number                          7644\n",
      "CMS Geocode                              1700\n",
      "Billing Cycle                               1\n",
      "Interest State                             51\n",
      "Reciever Medical Coverage Identifier       20\n",
      "Reciever medical Coverage(2)              764\n",
      "Cancel Reason Code                          1\n",
      "Deleivery Preference                        2\n",
      "Medical Begin Date                         91\n",
      "Medical End Date                           19\n",
      "Birth Date                               9503\n",
      "Death Date                                  1\n",
      "Gender                                      2\n",
      "Marital Status                              1\n",
      "CMOS                                        1\n",
      "Member SSN Number                       19589\n",
      "Medicare Number                         20000\n",
      "Permanent Address Begin Date              138\n",
      "Permanent Address End Date                  1\n",
      "Foreign Permanent Address Indicator         1\n",
      "State                                      51\n",
      "Zip Code                                11127\n",
      "PBP Id                                    111\n",
      "Election Code                              15\n",
      "PlanAStart                                481\n",
      "PlanAEnd                                    6\n",
      "PlanBStart                                483\n",
      "PlanBEnd                                   11\n",
      "PlanD Start Date                           92\n",
      "PlanD End                                  19\n",
      "Creditable Coverage Flag                    4\n",
      "Number Uncovered Month                     99\n",
      "LIS Percent                                 5\n",
      "Retain_D                                    2\n",
      "dtype: int64\n",
      "\n",
      "MISSING:\n",
      "\n",
      " Transaction Identifier                  0.00000\n",
      "State Code                              0.00000\n",
      "GPS Member Number                       0.00000\n",
      "Alternate Employee ID                   0.00000\n",
      "Medicaid Number                         0.60650\n",
      "CMS Geocode                             0.00000\n",
      "Billing Cycle                           0.00000\n",
      "Interest State                          0.00000\n",
      "Reciever Medical Coverage Identifier    0.00000\n",
      "Reciever medical Coverage(2)            0.00000\n",
      "Cancel Reason Code                      0.00000\n",
      "Deleivery Preference                    0.83555\n",
      "Medical Begin Date                      0.00000\n",
      "Medical End Date                        0.00000\n",
      "Birth Date                              0.00000\n",
      "Death Date                              0.00000\n",
      "Gender                                  0.00000\n",
      "Marital Status                          0.00000\n",
      "CMOS                                    0.00000\n",
      "Member SSN Number                       0.00000\n",
      "Medicare Number                         0.00000\n",
      "Permanent Address Begin Date            0.00000\n",
      "Permanent Address End Date              0.00000\n",
      "Foreign Permanent Address Indicator     0.00000\n",
      "State                                   0.00000\n",
      "Zip Code                                0.00000\n",
      "PBP Id                                  0.00000\n",
      "Election Code                           0.00000\n",
      "PlanAStart                              0.00000\n",
      "PlanAEnd                                0.00000\n",
      "PlanBStart                              0.00000\n",
      "PlanBEnd                                0.00000\n",
      "PlanD Start Date                        0.00000\n",
      "PlanD End                               0.00000\n",
      "Creditable Coverage Flag                0.00000\n",
      "Number Uncovered Month                  0.00000\n",
      "LIS Percent                             0.00000\n",
      "Retain_D                                0.00000\n",
      "dtype: float64\n"
     ]
    }
   ],
   "source": [
    "print('\\nUNIQUE:\\n\\n', data.nunique())\n",
    "print('\\nMISSING:\\n\\n', data.isna().mean())"
   ]
  },
  {
   "cell_type": "code",
   "execution_count": 30,
   "metadata": {},
   "outputs": [],
   "source": [
    "data = data.fillna(data.median())#numerical imputation\n",
    "#data['column_name'].fillna(data['column_name'].value_counts().idxmax(), inplace=True)\n",
    "threshold = 0.7\n",
    "#Dropping columns with missing value rate higher than threshold\n",
    "data = data[data.columns[data.isnull().mean() < threshold]]\n",
    "#Dropping rows with missing value rate higher than threshold\n",
    "data = data.loc[data.isnull().mean(axis=1) < threshold]"
   ]
  },
  {
   "cell_type": "markdown",
   "metadata": {},
   "source": [
    "# Mapping Non-numeric Feature Values in a Dictionary"
   ]
  },
  {
   "cell_type": "code",
   "execution_count": 31,
   "metadata": {},
   "outputs": [],
   "source": [
    "hey=np.array(np.where(data['Creditable Coverage Flag']=='R' ))\n",
    "for m in hey:\n",
    "    data.loc[m,'Creditable Coverage Flag']=1\n",
    "hey=np.array(np.where(data['Creditable Coverage Flag']=='Y' ))\n",
    "for m in hey:\n",
    "    data.loc[m,'Creditable Coverage Flag']=1\n",
    "hey=np.array(np.where(data['Creditable Coverage Flag']=='N' ))\n",
    "for m in hey:\n",
    "    data.loc[m,'Creditable Coverage Flag']=0\n",
    "hey=np.array(np.where(data['Creditable Coverage Flag']==' ' ))\n",
    "for m in hey:\n",
    "    data.loc[m,'Creditable Coverage Flag']=0\n"
   ]
  },
  {
   "cell_type": "code",
   "execution_count": 32,
   "metadata": {},
   "outputs": [],
   "source": [
    "def mapping(data,feature):\n",
    "    featureMap=dict()\n",
    "    count=0\n",
    "    for i in sorted(data[feature].unique()):\n",
    "        featureMap[i]=count\n",
    "        count=count+1\n",
    "    data[feature]=data[feature].map(featureMap)\n",
    "    return featureMap"
   ]
  },
  {
   "cell_type": "code",
   "execution_count": 33,
   "metadata": {},
   "outputs": [],
   "source": [
    "map_l=mapping(data,'LIS Percent')    "
   ]
  },
  {
   "cell_type": "code",
   "execution_count": 35,
   "metadata": {},
   "outputs": [],
   "source": [
    "raw=pd.read_csv(r'C:\\Users\\naggar25\\Desktop\\Member.csv')   \n",
    "raw.columns\n",
    "raw.drop('Unnamed: 0',inplace=True,axis=1)"
   ]
  },
  {
   "cell_type": "code",
   "execution_count": 36,
   "metadata": {},
   "outputs": [],
   "source": [
    "raw = raw.append({'State Code' : 'DC' ,'State Name':'Derek', 'Cat' : 'state'} , ignore_index=True)"
   ]
  },
  {
   "cell_type": "code",
   "execution_count": 37,
   "metadata": {},
   "outputs": [],
   "source": [
    "def data_State(data,raw,feature):\n",
    "    featureMap=dict()\n",
    "    count=0\n",
    "    for i in sorted(data[feature].unique()):\n",
    "        featureMap[i]=count\n",
    "        count=count+1\n",
    "    data[feature]=data[feature].map(featureMap)\n",
    "    raw[feature]=raw[feature].map(featureMap)\n",
    "    return data"
   ]
  },
  {
   "cell_type": "code",
   "execution_count": 38,
   "metadata": {},
   "outputs": [],
   "source": [
    "raw.head()\n",
    "lst1=data['State Code']\n",
    "lst2=raw['State Code']\n",
    "data_State(data,raw,'State Code')\n",
    "data['State Name']=lst1\n",
    "raw['State att']=lst2"
   ]
  },
  {
   "cell_type": "code",
   "execution_count": 39,
   "metadata": {},
   "outputs": [
    {
     "data": {
      "text/html": [
       "<div>\n",
       "<style scoped>\n",
       "    .dataframe tbody tr th:only-of-type {\n",
       "        vertical-align: middle;\n",
       "    }\n",
       "\n",
       "    .dataframe tbody tr th {\n",
       "        vertical-align: top;\n",
       "    }\n",
       "\n",
       "    .dataframe thead th {\n",
       "        text-align: right;\n",
       "    }\n",
       "</style>\n",
       "<table border=\"1\" class=\"dataframe\">\n",
       "  <thead>\n",
       "    <tr style=\"text-align: right;\">\n",
       "      <th></th>\n",
       "      <th>State Code</th>\n",
       "      <th>State Name</th>\n",
       "      <th>Cat</th>\n",
       "      <th>State att</th>\n",
       "    </tr>\n",
       "  </thead>\n",
       "  <tbody>\n",
       "    <tr>\n",
       "      <th>0</th>\n",
       "      <td>1</td>\n",
       "      <td>Alabama</td>\n",
       "      <td>state</td>\n",
       "      <td>AL</td>\n",
       "    </tr>\n",
       "    <tr>\n",
       "      <th>1</th>\n",
       "      <td>0</td>\n",
       "      <td>Alaska</td>\n",
       "      <td>state</td>\n",
       "      <td>AK</td>\n",
       "    </tr>\n",
       "    <tr>\n",
       "      <th>2</th>\n",
       "      <td>3</td>\n",
       "      <td>Arizonas</td>\n",
       "      <td>state</td>\n",
       "      <td>AZ</td>\n",
       "    </tr>\n",
       "    <tr>\n",
       "      <th>3</th>\n",
       "      <td>2</td>\n",
       "      <td>Arkansas</td>\n",
       "      <td>state</td>\n",
       "      <td>AR</td>\n",
       "    </tr>\n",
       "    <tr>\n",
       "      <th>4</th>\n",
       "      <td>4</td>\n",
       "      <td>California</td>\n",
       "      <td>state</td>\n",
       "      <td>CA</td>\n",
       "    </tr>\n",
       "  </tbody>\n",
       "</table>\n",
       "</div>"
      ],
      "text/plain": [
       "   State Code  State Name    Cat State att\n",
       "0           1     Alabama  state        AL\n",
       "1           0      Alaska  state        AK\n",
       "2           3    Arizonas  state        AZ\n",
       "3           2    Arkansas  state        AR\n",
       "4           4  California  state        CA"
      ]
     },
     "execution_count": 39,
     "metadata": {},
     "output_type": "execute_result"
    }
   ],
   "source": [
    "np.array(np.where(data['State Code']==7))\n",
    "data.loc[1567]\n",
    "raw.head()\n",
    "#chacking the raw data"
   ]
  },
  {
   "cell_type": "markdown",
   "metadata": {},
   "source": [
    "# Filling Empty date cell with Present date values"
   ]
  },
  {
   "cell_type": "code",
   "execution_count": 40,
   "metadata": {},
   "outputs": [],
   "source": [
    "end=['PlanD End','PlanBEnd','PlanAEnd','Permanent Address End Date','Death Date','Medical End Date']\n",
    "for m in end:\n",
    "     data[m].fillna('99999999')\n",
    "#pd.to_datetime(data['PlanAStart'])\n",
    "start=['PlanD Start Date','PlanBStart','PlanAStart','Permanent Address Begin Date','Birth Date','Medical Begin Date']\n",
    "for j in start:\n",
    "     data[j].fillna('00000000')\n",
    "data['Medical End Date'].head()    \n",
    "data.loc[0,'PlanD End']='20190716'"
   ]
  },
  {
   "cell_type": "code",
   "execution_count": 41,
   "metadata": {
    "scrolled": true
   },
   "outputs": [],
   "source": [
    "uni_set=[]\n",
    "for j in end:\n",
    "    uni_set.append(data[j].unique())\n",
    "uni_set    \n",
    "flatten =[item for sublist in uni_set for item in sublist]\n",
    "flatten= list(dict.fromkeys(flatten))\n",
    "flat=[val for val in flatten if int(str(val)[:2])==99 or int(str(val)[:2])==00]\n",
    "data['Medical Begin Date']=data['Medical Begin Date'].astype(int).astype(str)\n",
    "data['Medical End Date']=data['Medical End Date'].astype(int).astype(str)    "
   ]
  },
  {
   "cell_type": "code",
   "execution_count": 42,
   "metadata": {},
   "outputs": [],
   "source": [
    "from datetime import date\n",
    "j=str(date.today()).split('-')\n",
    "s=\"\".join(j)"
   ]
  },
  {
   "cell_type": "code",
   "execution_count": 43,
   "metadata": {},
   "outputs": [],
   "source": [
    "for y in end:\n",
    "    for m in range(0,len(data.index)):\n",
    "        if data.loc[m,y] in flat:\n",
    "            data.loc[m,y]=str(s)            "
   ]
  },
  {
   "cell_type": "markdown",
   "metadata": {},
   "source": [
    "# Count number of Years of enrollment of a customer in a particular plan."
   ]
  },
  {
   "cell_type": "code",
   "execution_count": 44,
   "metadata": {
    "scrolled": true
   },
   "outputs": [
    {
     "name": "stdout",
     "output_type": "stream",
     "text": [
      "1\n",
      "2\n",
      "3\n",
      "4\n",
      "5\n",
      "6\n"
     ]
    }
   ],
   "source": [
    "diff=[]\n",
    "cnt=0\n",
    "sIzE=len(data.index)\n",
    "for x,y in zip(start,end):\n",
    "    val=[]\n",
    "    for m in range(0,sIzE):\n",
    "        if data.loc[m,x]!='00000000':\n",
    "            a,b,c=int(data.loc[m,x][:4]),int(data.loc[m,x][4:6]),int(data.loc[m,x][6:8])\n",
    "            #print(a,b,c)\n",
    "            d,e,f=int(data.loc[m,y][:4]),int(data.loc[m,y][4:6]),int(data.loc[m,y][6:8])\n",
    "            #print(d,e,f)\n",
    "            f_date=date(a,b,c)\n",
    "            e_date=date(d,e,f)\n",
    "            day1=(int((date.today() - f_date).days / 365) )\n",
    "            day2=(int((date.today() - e_date).days / 365) )\n",
    "            val.append(abs(day2-day1))\n",
    "        else:\n",
    "            val.append(np.nan)\n",
    "            \n",
    "    diff.append(val) \n",
    "    cnt=cnt+1\n",
    "    print(cnt)"
   ]
  },
  {
   "cell_type": "code",
   "execution_count": 45,
   "metadata": {},
   "outputs": [],
   "source": [
    "data['Plan D Retain Years']=diff[0]\n",
    "data['Plan B Retain Years']=diff[1]\n",
    "data['Plan A Retain Years']=diff[2]\n",
    "data['Permanent Address Retain Years']=diff[3]\n",
    "data['Medical Coverage Years']=diff[5]"
   ]
  },
  {
   "cell_type": "code",
   "execution_count": 46,
   "metadata": {},
   "outputs": [],
   "source": [
    "to_drop=['PlanD Start Date','PlanD End','PlanBStart','PlanBEnd','PlanAStart','PlanAEnd','Permanent Address Begin Date','Permanent Address End Date']\n",
    "data.drop(to_drop,inplace=True,axis=1)"
   ]
  },
  {
   "cell_type": "code",
   "execution_count": 47,
   "metadata": {},
   "outputs": [
    {
     "name": "stdout",
     "output_type": "stream",
     "text": [
      "\n"
     ]
    }
   ],
   "source": [
    "data['Number Uncovered Month'].astype(str).astype(int)\n",
    "data['LIS Percent'].astype(str).astype(int)\n",
    "print(\"\")"
   ]
  },
  {
   "cell_type": "code",
   "execution_count": 48,
   "metadata": {},
   "outputs": [],
   "source": [
    "for c in [column for column in data.columns if data[column].dtype==object]:\n",
    "    data[c].astype(str)"
   ]
  },
  {
   "cell_type": "markdown",
   "metadata": {},
   "source": [
    "# Age calculation from BirthDate"
   ]
  },
  {
   "cell_type": "code",
   "execution_count": 49,
   "metadata": {},
   "outputs": [
    {
     "data": {
      "text/plain": [
       "datetime.date(1944, 3, 13)"
      ]
     },
     "execution_count": 49,
     "metadata": {},
     "output_type": "execute_result"
    }
   ],
   "source": [
    "from datetime import date\n",
    "m=str(data['Birth Date'].iloc[5])\n",
    "year=int(m[0:4])\n",
    "month=int(m[4:6])\n",
    "day=int(m[6:8])\n",
    "date(year,month,day)\n",
    "#data['Age']=int((date.today() - data['Birth Date']).days / 365) "
   ]
  },
  {
   "cell_type": "code",
   "execution_count": 50,
   "metadata": {},
   "outputs": [],
   "source": [
    "age=[]\n",
    "for i in data['Birth Date']:\n",
    "    m=str(i)\n",
    "    year=int(m[0:4])\n",
    "    month=int(m[4:6])\n",
    "    day=int(m[6:8])\n",
    "    j=date(year,month,day)\n",
    "    age.append(int((date.today() - j).days / 365) )\n",
    "    "
   ]
  },
  {
   "cell_type": "code",
   "execution_count": 51,
   "metadata": {},
   "outputs": [],
   "source": [
    "data['Age']=age"
   ]
  },
  {
   "cell_type": "code",
   "execution_count": 52,
   "metadata": {},
   "outputs": [
    {
     "name": "stdout",
     "output_type": "stream",
     "text": [
      "Percent of missing \"Age\" records is 0.00 %\n"
     ]
    },
    {
     "data": {
      "image/png": "[encoded data removed]",
      "text/plain": [
       "<Figure size 432x288 with 1 Axes>"
      ]
     },
     "metadata": {},
     "output_type": "display_data"
    },
    {
     "name": "stdout",
     "output_type": "stream",
     "text": [
      "The mean of \"Age\" is 75.41\n",
      "The median of \"Age\" is 75.00\n"
     ]
    }
   ],
   "source": [
    "print('Percent of missing \"Age\" records is {:.2f} %'.format((data.Age.isna().mean())*100))\n",
    "\n",
    "ax = data[\"Age\"].hist(bins=15, density=True, stacked=True, color='teal', alpha=0.6)\n",
    "data[\"Age\"].plot(kind='density', color='teal')\n",
    "ax.set(xlabel='Age')\n",
    "plt.xlim(50,105)\n",
    "plt.show()\n",
    "\n",
    "# mean age\n",
    "print('The mean of \"Age\" is %.2f' %(data[\"Age\"].mean(skipna=True)))\n",
    "# median age\n",
    "print('The median of \"Age\" is %.2f' %(data[\"Age\"].median(skipna=True)))"
   ]
  },
  {
   "cell_type": "code",
   "execution_count": 53,
   "metadata": {},
   "outputs": [],
   "source": [
    "to_drop=['Deleivery Preference','CMS Geocode', 'Medical Begin Date',\n",
    "       'Medical End Date', 'Death Date','Transaction Identifier','Cancel Reason Code','Billing Cycle','Alternate Employee ID','CMOS','Birth Date','Interest State','Member SSN Number','GPS Member Number','Reciever Medical Coverage Identifier', 'Reciever medical Coverage(2)','Medicare Number','Medicaid Number','Marital Status','Foreign Permanent Address Indicator','State','PBP Id','Election Code']\n",
    "data.drop(to_drop,inplace=True,axis=1)"
   ]
  },
  {
   "cell_type": "code",
   "execution_count": 54,
   "metadata": {},
   "outputs": [],
   "source": [
    "data.isnull().mean()\n",
    "data = data.fillna(0)"
   ]
  },
  {
   "cell_type": "code",
   "execution_count": 55,
   "metadata": {},
   "outputs": [],
   "source": [
    "from sklearn.preprocessing import LabelEncoder \n",
    "number=LabelEncoder()\n",
    "for c in data.columns:\n",
    "    if(data[c].dtypes==object):\n",
    "        data[c]=number.fit_transform(data[c].astype(str))"
   ]
  },
  {
   "cell_type": "code",
   "execution_count": 56,
   "metadata": {},
   "outputs": [
    {
     "data": {
      "text/plain": [
       "<matplotlib.axes._subplots.AxesSubplot at 0x20d44cc65c0>"
      ]
     },
     "execution_count": 56,
     "metadata": {},
     "output_type": "execute_result"
    },
    {
     "data": {
      "image/png": "[encoded data removed]",
      "text/plain": [
       "<Figure size 432x288 with 1 Axes>"
      ]
     },
     "metadata": {},
     "output_type": "display_data"
    }
   ],
   "source": [
    "sns.distplot(data['Plan A Retain Years'])"
   ]
  },
  {
   "cell_type": "code",
   "execution_count": 57,
   "metadata": {},
   "outputs": [
    {
     "data": {
      "text/plain": [
       "<matplotlib.axes._subplots.AxesSubplot at 0x20d44cb9c88>"
      ]
     },
     "execution_count": 57,
     "metadata": {},
     "output_type": "execute_result"
    },
    {
     "data": {
      "image/png": "[encoded data removed]",
      "text/plain": [
       "<Figure size 432x288 with 1 Axes>"
      ]
     },
     "metadata": {},
     "output_type": "display_data"
    }
   ],
   "source": [
    "sns.distplot(data['Plan B Retain Years'])"
   ]
  },
  {
   "cell_type": "code",
   "execution_count": 58,
   "metadata": {},
   "outputs": [],
   "source": [
    "#sns.set(style='ticks',color_codes=True)\n",
    "#graph=sns.pairplot(data)"
   ]
  },
  {
   "cell_type": "markdown",
   "metadata": {},
   "source": [
    "# Finding Co-Related Features"
   ]
  },
  {
   "cell_type": "code",
   "execution_count": 59,
   "metadata": {
    "scrolled": false
   },
   "outputs": [
    {
     "data": {
      "text/plain": [
       "<matplotlib.axes._subplots.AxesSubplot at 0x20d44e14518>"
      ]
     },
     "execution_count": 59,
     "metadata": {},
     "output_type": "execute_result"
    },
    {
     "data": {
      "image/png": "[encoded data removed]",
      "text/plain": [
       "<Figure size 1080x576 with 2 Axes>"
      ]
     },
     "metadata": {},
     "output_type": "display_data"
    }
   ],
   "source": [
    "plt.figure(figsize=(15,8))\n",
    "sns.heatmap(data.corr(),annot=True,cmap=\"RdYlGn\")"
   ]
  },
  {
   "cell_type": "code",
   "execution_count": 60,
   "metadata": {},
   "outputs": [
    {
     "name": "stdout",
     "output_type": "stream",
     "text": [
      "['State Name', 'Plan A Retain Years', 'Medical Coverage Years']\n"
     ]
    }
   ],
   "source": [
    "corr_matrix = data.corr().abs()\n",
    "\n",
    "# Select upper triangle of correlation matrix\n",
    "upper = corr_matrix.where(np.triu(np.ones(corr_matrix.shape), k=1).astype(np.bool))\n",
    "\n",
    "# Find index of feature columns with correlation greater than 0.95\n",
    "to_drop = [column for column in upper.columns if any(upper[column] > 0.85)]\n",
    "\n",
    "print(to_drop)\n",
    "\n",
    "data.drop(to_drop,inplace=True,axis=1)"
   ]
  },
  {
   "cell_type": "code",
   "execution_count": 61,
   "metadata": {},
   "outputs": [
    {
     "name": "stdout",
     "output_type": "stream",
     "text": [
      "% of retention of members with Creditable Coverage Flag 96.58\n"
     ]
    }
   ],
   "source": [
    "m=np.transpose(np.array(np.where(data['Creditable Coverage Flag']==1)))\n",
    "move=len(m)\n",
    "size=len(data.index)\n",
    "print(\"% of retention of members with Creditable Coverage Flag\",(move/size)*100)"
   ]
  },
  {
   "cell_type": "code",
   "execution_count": 62,
   "metadata": {},
   "outputs": [
    {
     "data": {
      "image/png": "[encoded data removed]",
      "text/plain": [
       "<Figure size 1080x576 with 1 Axes>"
      ]
     },
     "metadata": {},
     "output_type": "display_data"
    }
   ],
   "source": [
    "plt.figure(figsize=(15,8))\n",
    "#Flag indicates if mbr previously had creditable RX coverage  \n",
    "ax = sns.kdeplot(data[\"Creditable Coverage Flag\"][data.Retain_D == 1], color=\"darkturquoise\", shade=True)\n",
    "sns.kdeplot(data[\"Creditable Coverage Flag\"][data.Retain_D == 0], color=\"lightcoral\", shade=True)\n",
    "plt.legend(['Retain', 'Not Retain'])\n",
    "plt.title('Density Plot of Creditable Coverage Flag for Retain Population and Non-Retain Population')\n",
    "ax.set(xlabel='Creditable Coverage Flag')\n",
    "plt.xlim(-0.2,1.2)\n",
    "plt.show()"
   ]
  },
  {
   "cell_type": "markdown",
   "metadata": {},
   "source": [
    "# Feature Engineering Process\n",
    "1.Preparing the proper input dataset, compatible with the machine learning algorithm requirements.\n",
    "2.Improving the performance of machine learning models."
   ]
  },
  {
   "cell_type": "code",
   "execution_count": 63,
   "metadata": {},
   "outputs": [],
   "source": [
    "data.to_csv('output_1',sep='\\t', encoding='utf-8')"
   ]
  },
  {
   "cell_type": "code",
   "execution_count": 64,
   "metadata": {},
   "outputs": [],
   "source": [
    "def label_race2 (data,feature):\n",
    "    for m in feature:\n",
    "        k=0\n",
    "        for Str in data[m]:\n",
    "            Str=Str[::-1]\n",
    "            data.iloc[k,m]=Str\n",
    "            k=k+1\n",
    "            \n",
    "#code use to reverse the string for the fetched columns.            "
   ]
  },
  {
   "cell_type": "code",
   "execution_count": 65,
   "metadata": {},
   "outputs": [
    {
     "data": {
      "image/png": "[encoded data removed]",
      "text/plain": [
       "<Figure size 1080x576 with 1 Axes>"
      ]
     },
     "metadata": {},
     "output_type": "display_data"
    }
   ],
   "source": [
    "plt.figure(figsize=(15,8))\n",
    "ax = sns.kdeplot(data[\"Age\"][data.Retain_D == 1], color=\"darkturquoise\", shade=True)\n",
    "sns.kdeplot(data[\"Age\"][data.Retain_D == 0], color=\"lightcoral\", shade=True)\n",
    "plt.legend(['Retain', 'Not Retain'])\n",
    "plt.title('Density Plot of Age for Retain Population and Non-Retain Population')\n",
    "ax.set(xlabel='Age')\n",
    "plt.xlim(60,110)\n",
    "plt.show()"
   ]
  },
  {
   "cell_type": "code",
   "execution_count": 66,
   "metadata": {},
   "outputs": [
    {
     "data": {
      "image/png": "[encoded data removed]",
      "text/plain": [
       "<Figure size 432x288 with 1 Axes>"
      ]
     },
     "metadata": {},
     "output_type": "display_data"
    }
   ],
   "source": [
    "plt.figure(figsize=(6,4))\n",
    "ax = sns.kdeplot(data['LIS Percent'][data.Retain_D == 1], color=\"darkturquoise\", shade=True)\n",
    "sns.kdeplot(data['LIS Percent'][data.Retain_D == 0], color=\"lightcoral\", shade=True)\n",
    "plt.legend(['Retain', 'Not Retain'])\n",
    "plt.title('Density Plot of Number Uncovered Month for Retain Population and Non-Retain Population')\n",
    "ax.set(xlabel='LIS Percent')\n",
    "plt.xlim(0,4)\n",
    "plt.show()"
   ]
  },
  {
   "cell_type": "code",
   "execution_count": 67,
   "metadata": {},
   "outputs": [
    {
     "data": {
      "text/plain": [
       "<matplotlib.axes._subplots.AxesSubplot at 0x20d45025e80>"
      ]
     },
     "execution_count": 67,
     "metadata": {},
     "output_type": "execute_result"
    },
    {
     "data": {
      "image/png": "[encoded data removed]",
      "text/plain": [
       "<Figure size 1080x576 with 2 Axes>"
      ]
     },
     "metadata": {},
     "output_type": "display_data"
    }
   ],
   "source": [
    "plt.figure(figsize=(15,8))\n",
    "sns.heatmap(data.corr(),annot=True,cmap=\"RdYlGn\")"
   ]
  },
  {
   "cell_type": "code",
   "execution_count": 68,
   "metadata": {},
   "outputs": [],
   "source": [
    "m=data['Retain_D'].copy()\n",
    "data.drop(['Retain_D'],inplace=True,axis=1)\n",
    "data['Retain_D']=m"
   ]
  },
  {
   "cell_type": "markdown",
   "metadata": {},
   "source": [
    "# Model Training"
   ]
  },
  {
   "cell_type": "code",
   "execution_count": 69,
   "metadata": {},
   "outputs": [],
   "source": [
    "X_train,X_test,y_train,y_test=train_test_split(data.iloc[:,0:-1],data['Retain_D'],test_size=0.4, random_state=82)"
   ]
  },
  {
   "cell_type": "code",
   "execution_count": 70,
   "metadata": {},
   "outputs": [
    {
     "data": {
      "image/png": "[encoded data removed]",
      "text/plain": [
       "<Figure size 1080x576 with 1 Axes>"
      ]
     },
     "metadata": {},
     "output_type": "display_data"
    }
   ],
   "source": [
    "plt.figure(figsize=(15,8))\n",
    "ax = sns.kdeplot(data[\"Zip Code\"][data.Retain_D == 1], color=\"darkturquoise\", shade=True)\n",
    "sns.kdeplot(data[\"Zip Code\"][data.Retain_D == 0], color=\"lightcoral\", shade=True)\n",
    "plt.legend(['Retain', 'Not Retain'])\n",
    "plt.title('Density Plot of Zip Code for Retain Population and Non-Retain Population')\n",
    "ax.set(xlabel='Zip Code')\n",
    "\n",
    "plt.show()"
   ]
  },
  {
   "cell_type": "markdown",
   "metadata": {},
   "source": [
    "# Logistic Regression"
   ]
  },
  {
   "cell_type": "code",
   "execution_count": 71,
   "metadata": {},
   "outputs": [
    {
     "name": "stdout",
     "output_type": "stream",
     "text": [
      "Train Accuracy: \t88.467 %\n",
      "Validation Accuracy: \t88.900 %\n",
      "Coefficients: \n",
      " [[ 4.97405254e-03 -2.39177360e-01 -5.54288200e-06  1.54369812e+00\n",
      "   1.92242391e-02 -4.60600020e-01 -4.16704276e-02 -3.02551189e-02\n",
      "   5.51111548e-02 -6.40293244e-04]]\n",
      "Mean squared error: 0.11\n",
      "Variance score: -0.13\n"
     ]
    },
    {
     "data": {
      "image/png": "[encoded data removed]",
      "text/plain": [
       "<Figure size 432x288 with 1 Axes>"
      ]
     },
     "metadata": {},
     "output_type": "display_data"
    }
   ],
   "source": [
    "from sklearn import preprocessing\n",
    "from sklearn.preprocessing import PowerTransformer, Normalizer, StandardScaler,LabelEncoder\n",
    "from sklearn.model_selection import train_test_split, cross_val_score\n",
    "from sklearn.linear_model import LogisticRegression\n",
    "from sklearn.metrics import accuracy_score, confusion_matrix, classification_report,mean_squared_error,r2_score\n",
    "accTrain=[]\n",
    "accTest=[]\n",
    "rems=[]\n",
    "itr=np.arange(1000,3000,500)\n",
    "for i in itr:\n",
    "    lg=LogisticRegression(solver='lbfgs',max_iter=i)\n",
    "    lg.fit(X_train,y_train)\n",
    "    y_pred=lg.predict(X_test)\n",
    "    tr_acc = accuracy_score(lg.predict(X_train), y_train)\n",
    "    te_acc = accuracy_score(y_pred, y_test) \n",
    "    accTrain.append(tr_acc*100)\n",
    "    accTest.append(te_acc*100)\n",
    "    rems.append(mean_squared_error(y_test,y_pred))\n",
    "sns.lineplot(itr, rems, label='Train')  \n",
    "print('Train Accuracy: \\t{:.3f} %\\nValidation Accuracy: \\t{:.3f} %'.format(tr_acc*100, te_acc*100))\n",
    "print('Coefficients: \\n',lg.coef_)\n",
    "# The mean squared error\n",
    "print(\"Mean squared error: %.2f\"% mean_squared_error(y_test,y_pred))\n",
    "# Explained variance score: 1 is perfect prediction\n",
    "print('Variance score: %.2f' % r2_score(y_test,y_pred))"
   ]
  },
  {
   "cell_type": "markdown",
   "metadata": {},
   "source": [
    "# RandomForestClassifier"
   ]
  },
  {
   "cell_type": "code",
   "execution_count": 72,
   "metadata": {},
   "outputs": [
    {
     "name": "stdout",
     "output_type": "stream",
     "text": [
      "Train Accuracy: \t99.983 %\n",
      "Validation Accuracy: \t89.087 %\n",
      "0.9998333333333334\n"
     ]
    }
   ],
   "source": [
    "names=data.columns\n",
    "#sklearn.ensemble.RandomForestClassifier\n",
    "from sklearn.ensemble import RandomForestClassifier\n",
    "cf1=RandomForestClassifier(n_estimators=200,criterion='entropy', random_state=np.random)\n",
    "cf1.fit(X_train,y_train)\n",
    "y_pred=cf1.predict(X_test)\n",
    "tr_acc1 = accuracy_score(cf1.predict(X_train), y_train)\n",
    "te_acc1 = accuracy_score(y_pred, y_test)\n",
    "print('Train Accuracy: \\t{:.3f} %\\nValidation Accuracy: \\t{:.3f} %'.format(tr_acc1*100, te_acc1*100))\n",
    "print(cf1.score(X_train,y_train))"
   ]
  },
  {
   "cell_type": "code",
   "execution_count": 73,
   "metadata": {},
   "outputs": [
    {
     "name": "stdout",
     "output_type": "stream",
     "text": [
      "Decision Path (<12000x633146 sparse matrix of type '<class 'numpy.int64'>'\n",
      "\twith 41517574 stored elements in Compressed Sparse Row format>, array([     0,   3083,   6142,   9419,  12478,  15609,  18806,  22021,\n",
      "        25154,  28255,  31360,  34477,  37592,  40819,  43964,  47109,\n",
      "        50322,  53637,  56800,  59879,  63064,  66197,  69360,  72559,\n",
      "        75588,  78773,  81860,  84845,  87964,  91113,  94350,  97465,\n",
      "       100764, 103825, 106916, 110025, 113082, 116267, 119578, 122683,\n",
      "       126006, 129245, 132442, 135599, 138810, 142059, 145212, 148333,\n",
      "       151470, 154731, 157870, 161125, 164260, 167425, 170564, 173729,\n",
      "       176732, 179783, 182844, 185885, 189124, 192261, 195402, 198523,\n",
      "       201650, 204727, 207814, 211005, 214170, 217501, 220698, 223855,\n",
      "       227052, 230187, 233338, 236541, 239656, 242847, 246018, 249213,\n",
      "       252358, 255483, 258716, 261887, 265004, 268071, 271218, 274451,\n",
      "       277610, 280853, 284124, 287323, 290508, 293777, 297178, 300309,\n",
      "       303486, 306543, 309832, 313019, 316152, 319375, 322546, 325659,\n",
      "       328790, 332025, 335214, 338433, 341480, 344667, 347760, 350799,\n",
      "       353908, 357197, 360330, 363477, 366512, 369661, 372914, 376115,\n",
      "       379370, 382669, 385948, 389013, 392058, 395219, 398478, 401667,\n",
      "       404720, 407841, 411090, 414241, 417348, 420531, 423828, 427009,\n",
      "       430132, 433301, 436594, 439851, 442966, 446223, 449290, 452363,\n",
      "       455662, 458609, 461614, 464737, 467924, 470999, 474132, 477273,\n",
      "       480450, 483553, 486822, 489961, 493054, 496039, 499300, 502527,\n",
      "       505678, 508965, 512028, 515199, 518370, 521613, 524820, 528089,\n",
      "       531456, 534737, 537866, 540965, 544200, 547389, 550580, 553755,\n",
      "       556942, 560147, 563258, 566637, 569664, 572971, 576080, 579231,\n",
      "       582384, 585561, 588610, 591821, 594980, 598305, 601450, 604705,\n",
      "       607836, 610993, 614064, 617155, 620326, 623443, 626612, 629843,\n",
      "       633146], dtype=int32))\n"
     ]
    }
   ],
   "source": [
    "print(\"Decision Path\",cf1.decision_path(X_train))\n",
    "arr=cf1.feature_importances_\n",
    "j=np.amax(arr)\n",
    "result = np.where(arr == np.amax(arr))\n",
    "#print (sorted(zip(map(lambda x: round(x, 4), cf1.feature_importances_), names),reverse=True))"
   ]
  },
  {
   "cell_type": "code",
   "execution_count": 74,
   "metadata": {},
   "outputs": [
    {
     "data": {
      "image/png": "[encoded data removed]",
      "text/plain": [
       "<Figure size 432x288 with 1 Axes>"
      ]
     },
     "metadata": {},
     "output_type": "display_data"
    }
   ],
   "source": [
    "List=(sorted(zip(map(lambda x: round(x, 4), cf1.feature_importances_), names),reverse=True))\n",
    "x_axis=[]\n",
    "y_axis=[]\n",
    "m=0\n",
    "for y,x in List:\n",
    "    x_axis.append(x)\n",
    "    y_axis.append(y)\n",
    "    m=m+1\n",
    "    if(m==7):\n",
    "        break\n",
    "y_pos = np.arange(len(x_axis)) \n",
    "plt.barh(y_pos, y_axis) \n",
    "# Create names on the y-axis\n",
    "plt.yticks(y_pos, x_axis)\n",
    "# Show graphic\n",
    "plt.show()   "
   ]
  },
  {
   "cell_type": "markdown",
   "metadata": {},
   "source": [
    "# Standardistaion"
   ]
  },
  {
   "cell_type": "code",
   "execution_count": 75,
   "metadata": {
    "scrolled": true
   },
   "outputs": [
    {
     "data": {
      "text/html": [
       "<div>\n",
       "<style scoped>\n",
       "    .dataframe tbody tr th:only-of-type {\n",
       "        vertical-align: middle;\n",
       "    }\n",
       "\n",
       "    .dataframe tbody tr th {\n",
       "        vertical-align: top;\n",
       "    }\n",
       "\n",
       "    .dataframe thead th {\n",
       "        text-align: right;\n",
       "    }\n",
       "</style>\n",
       "<table border=\"1\" class=\"dataframe\">\n",
       "  <thead>\n",
       "    <tr style=\"text-align: right;\">\n",
       "      <th></th>\n",
       "      <th>State Code</th>\n",
       "      <th>Gender</th>\n",
       "      <th>Zip Code</th>\n",
       "      <th>Creditable Coverage Flag</th>\n",
       "      <th>Number Uncovered Month</th>\n",
       "      <th>LIS Percent</th>\n",
       "      <th>Plan D Retain Years</th>\n",
       "      <th>Plan B Retain Years</th>\n",
       "      <th>Permanent Address Retain Years</th>\n",
       "      <th>Age</th>\n",
       "      <th>Retain_D</th>\n",
       "    </tr>\n",
       "  </thead>\n",
       "  <tbody>\n",
       "    <tr>\n",
       "      <th>count</th>\n",
       "      <td>20000.000000</td>\n",
       "      <td>20000.000000</td>\n",
       "      <td>20000.00000</td>\n",
       "      <td>20000.000000</td>\n",
       "      <td>20000.000000</td>\n",
       "      <td>20000.000000</td>\n",
       "      <td>20000.000000</td>\n",
       "      <td>20000.00000</td>\n",
       "      <td>20000.000000</td>\n",
       "      <td>20000.000000</td>\n",
       "      <td>20000.000000</td>\n",
       "    </tr>\n",
       "    <tr>\n",
       "      <th>mean</th>\n",
       "      <td>24.233450</td>\n",
       "      <td>0.422650</td>\n",
       "      <td>5459.61620</td>\n",
       "      <td>0.965800</td>\n",
       "      <td>1.252650</td>\n",
       "      <td>0.407800</td>\n",
       "      <td>0.916200</td>\n",
       "      <td>12.75640</td>\n",
       "      <td>3.943150</td>\n",
       "      <td>75.406350</td>\n",
       "      <td>0.887250</td>\n",
       "    </tr>\n",
       "    <tr>\n",
       "      <th>std</th>\n",
       "      <td>14.506777</td>\n",
       "      <td>0.493993</td>\n",
       "      <td>3197.02357</td>\n",
       "      <td>0.181747</td>\n",
       "      <td>7.768876</td>\n",
       "      <td>1.196106</td>\n",
       "      <td>1.733242</td>\n",
       "      <td>7.19309</td>\n",
       "      <td>2.822289</td>\n",
       "      <td>9.247292</td>\n",
       "      <td>0.316295</td>\n",
       "    </tr>\n",
       "    <tr>\n",
       "      <th>min</th>\n",
       "      <td>0.000000</td>\n",
       "      <td>0.000000</td>\n",
       "      <td>0.00000</td>\n",
       "      <td>0.000000</td>\n",
       "      <td>0.000000</td>\n",
       "      <td>0.000000</td>\n",
       "      <td>0.000000</td>\n",
       "      <td>0.00000</td>\n",
       "      <td>0.000000</td>\n",
       "      <td>26.000000</td>\n",
       "      <td>0.000000</td>\n",
       "    </tr>\n",
       "    <tr>\n",
       "      <th>25%</th>\n",
       "      <td>10.000000</td>\n",
       "      <td>0.000000</td>\n",
       "      <td>2686.75000</td>\n",
       "      <td>1.000000</td>\n",
       "      <td>0.000000</td>\n",
       "      <td>0.000000</td>\n",
       "      <td>0.000000</td>\n",
       "      <td>7.00000</td>\n",
       "      <td>2.000000</td>\n",
       "      <td>71.000000</td>\n",
       "      <td>1.000000</td>\n",
       "    </tr>\n",
       "    <tr>\n",
       "      <th>50%</th>\n",
       "      <td>24.000000</td>\n",
       "      <td>0.000000</td>\n",
       "      <td>5362.50000</td>\n",
       "      <td>1.000000</td>\n",
       "      <td>0.000000</td>\n",
       "      <td>0.000000</td>\n",
       "      <td>0.000000</td>\n",
       "      <td>11.00000</td>\n",
       "      <td>4.000000</td>\n",
       "      <td>75.000000</td>\n",
       "      <td>1.000000</td>\n",
       "    </tr>\n",
       "    <tr>\n",
       "      <th>75%</th>\n",
       "      <td>37.000000</td>\n",
       "      <td>1.000000</td>\n",
       "      <td>8102.25000</td>\n",
       "      <td>1.000000</td>\n",
       "      <td>0.000000</td>\n",
       "      <td>0.000000</td>\n",
       "      <td>0.000000</td>\n",
       "      <td>17.00000</td>\n",
       "      <td>5.000000</td>\n",
       "      <td>81.000000</td>\n",
       "      <td>1.000000</td>\n",
       "    </tr>\n",
       "    <tr>\n",
       "      <th>max</th>\n",
       "      <td>50.000000</td>\n",
       "      <td>1.000000</td>\n",
       "      <td>11126.00000</td>\n",
       "      <td>1.000000</td>\n",
       "      <td>98.000000</td>\n",
       "      <td>4.000000</td>\n",
       "      <td>8.000000</td>\n",
       "      <td>46.00000</td>\n",
       "      <td>11.000000</td>\n",
       "      <td>106.000000</td>\n",
       "      <td>1.000000</td>\n",
       "    </tr>\n",
       "  </tbody>\n",
       "</table>\n",
       "</div>"
      ],
      "text/plain": [
       "         State Code        Gender     Zip Code  Creditable Coverage Flag  \\\n",
       "count  20000.000000  20000.000000  20000.00000              20000.000000   \n",
       "mean      24.233450      0.422650   5459.61620                  0.965800   \n",
       "std       14.506777      0.493993   3197.02357                  0.181747   \n",
       "min        0.000000      0.000000      0.00000                  0.000000   \n",
       "25%       10.000000      0.000000   2686.75000                  1.000000   \n",
       "50%       24.000000      0.000000   5362.50000                  1.000000   \n",
       "75%       37.000000      1.000000   8102.25000                  1.000000   \n",
       "max       50.000000      1.000000  11126.00000                  1.000000   \n",
       "\n",
       "       Number Uncovered Month   LIS Percent  Plan D Retain Years  \\\n",
       "count            20000.000000  20000.000000         20000.000000   \n",
       "mean                 1.252650      0.407800             0.916200   \n",
       "std                  7.768876      1.196106             1.733242   \n",
       "min                  0.000000      0.000000             0.000000   \n",
       "25%                  0.000000      0.000000             0.000000   \n",
       "50%                  0.000000      0.000000             0.000000   \n",
       "75%                  0.000000      0.000000             0.000000   \n",
       "max                 98.000000      4.000000             8.000000   \n",
       "\n",
       "       Plan B Retain Years  Permanent Address Retain Years           Age  \\\n",
       "count          20000.00000                    20000.000000  20000.000000   \n",
       "mean              12.75640                        3.943150     75.406350   \n",
       "std                7.19309                        2.822289      9.247292   \n",
       "min                0.00000                        0.000000     26.000000   \n",
       "25%                7.00000                        2.000000     71.000000   \n",
       "50%               11.00000                        4.000000     75.000000   \n",
       "75%               17.00000                        5.000000     81.000000   \n",
       "max               46.00000                       11.000000    106.000000   \n",
       "\n",
       "           Retain_D  \n",
       "count  20000.000000  \n",
       "mean       0.887250  \n",
       "std        0.316295  \n",
       "min        0.000000  \n",
       "25%        1.000000  \n",
       "50%        1.000000  \n",
       "75%        1.000000  \n",
       "max        1.000000  "
      ]
     },
     "execution_count": 75,
     "metadata": {},
     "output_type": "execute_result"
    }
   ],
   "source": [
    "data.describe()\n"
   ]
  },
  {
   "cell_type": "code",
   "execution_count": 76,
   "metadata": {
    "scrolled": false
   },
   "outputs": [
    {
     "data": {
      "text/plain": [
       "<matplotlib.axes._subplots.AxesSubplot at 0x20d44cf0c88>"
      ]
     },
     "metadata": {},
     "output_type": "display_data"
    },
    {
     "data": {
      "image/png": "[encoded data removed]",
      "text/plain": [
       "<Figure size 432x288 with 1 Axes>"
      ]
     },
     "metadata": {},
     "output_type": "display_data"
    },
    {
     "data": {
      "text/plain": [
       "<matplotlib.axes._subplots.AxesSubplot at 0x20d44bcc518>"
      ]
     },
     "metadata": {},
     "output_type": "display_data"
    },
    {
     "data": {
      "image/png": "[encoded data removed]",
      "text/plain": [
       "<Figure size 432x288 with 1 Axes>"
      ]
     },
     "metadata": {},
     "output_type": "display_data"
    }
   ],
   "source": [
    "for col in ['Permanent Address Retain Years','Age']:\n",
    "    display(data[col].plot(kind = 'box', title=col))\n",
    "    plt.show()"
   ]
  },
  {
   "cell_type": "code",
   "execution_count": 77,
   "metadata": {},
   "outputs": [],
   "source": [
    "pt = PowerTransformer(method = 'yeo-johnson', standardize=True)\n",
    "for i in list(set(data.columns)-set(['Retain_D','Number Uncovered Month'])):\n",
    "    X_train[i] = pt.fit_transform(X_train[[i]].values)\n",
    "    X_test[i] = pt.transform(X_test[[i]].values)"
   ]
  },
  {
   "cell_type": "code",
   "execution_count": 78,
   "metadata": {},
   "outputs": [
    {
     "data": {
      "text/plain": [
       "<matplotlib.axes._subplots.AxesSubplot at 0x20d44ba9278>"
      ]
     },
     "metadata": {},
     "output_type": "display_data"
    },
    {
     "data": {
      "image/png": "[encoded data removed]",
      "text/plain": [
       "<Figure size 432x288 with 1 Axes>"
      ]
     },
     "metadata": {},
     "output_type": "display_data"
    },
    {
     "data": {
      "text/plain": [
       "<matplotlib.axes._subplots.AxesSubplot at 0x20d44c19e10>"
      ]
     },
     "metadata": {},
     "output_type": "display_data"
    },
    {
     "data": {
      "image/png": "[encoded data removed]",
      "text/plain": [
       "<Figure size 432x288 with 1 Axes>"
      ]
     },
     "metadata": {},
     "output_type": "display_data"
    }
   ],
   "source": [
    "for col in ['Permanent Address Retain Years','Age']:\n",
    "    display(X_train[col].plot(kind = 'box', title=col))\n",
    "    plt.show()"
   ]
  },
  {
   "cell_type": "code",
   "execution_count": 79,
   "metadata": {},
   "outputs": [
    {
     "data": {
      "text/plain": [
       "<matplotlib.axes._subplots.AxesSubplot at 0x20d44cc9438>"
      ]
     },
     "execution_count": 79,
     "metadata": {},
     "output_type": "execute_result"
    },
    {
     "data": {
      "image/png": "[encoded data removed]",
      "text/plain": [
       "<Figure size 432x288 with 1 Axes>"
      ]
     },
     "metadata": {},
     "output_type": "display_data"
    }
   ],
   "source": [
    "results = []\n",
    "\n",
    "Cs = np.arange(1, 10, 1)\n",
    "for C in Cs:\n",
    "    lg = LogisticRegression(solver='lbfgs', C=C)\n",
    "    lg.fit(X_train, y_train)\n",
    "    y_pred = lg.predict(X_test)\n",
    "\n",
    "    tr_acc = accuracy_score(lg.predict(X_train), y_train) * 100\n",
    "    te_acc = accuracy_score(y_pred, y_test) * 100\n",
    "\n",
    "    results.append((tr_acc, te_acc))\n",
    "    \n",
    "results = np.array(results)\n",
    "sns.lineplot(Cs, results[:,0], label='Train')\n",
    "sns.lineplot(Cs, results[:,1], label='Test')"
   ]
  },
  {
   "cell_type": "code",
   "execution_count": 80,
   "metadata": {},
   "outputs": [
    {
     "name": "stdout",
     "output_type": "stream",
     "text": [
      "Train Accuracy: \t88.667 %\n",
      "Validation Accuracy: \t89.100 %\n"
     ]
    }
   ],
   "source": [
    "lg = LogisticRegression(solver='lbfgs')\n",
    "lg.fit(X_train, y_train)\n",
    "y_pred = lg.predict(X_test)\n",
    "\n",
    "tr_acc = accuracy_score(lg.predict(X_train), y_train)\n",
    "te_acc = accuracy_score(y_pred, y_test)\n",
    "\n",
    "print('Train Accuracy: \\t{:.3f} %\\nValidation Accuracy: \\t{:.3f} %'.format(tr_acc*100, te_acc*100))"
   ]
  },
  {
   "cell_type": "markdown",
   "metadata": {},
   "source": [
    "# State Wise Member Retention Percentage"
   ]
  },
  {
   "cell_type": "code",
   "execution_count": 81,
   "metadata": {},
   "outputs": [],
   "source": [
    "#List= list(np.arange(1,50,1))\n",
    "List= data['State Code'].unique()\n",
    "result_cnt={}\n",
    "result_per={}\n",
    "#print(result)\n",
    "for j in List:\n",
    "    result_cnt[j]=0\n",
    "    result_per[j]=0\n",
    "#print(result)    "
   ]
  },
  {
   "cell_type": "code",
   "execution_count": 82,
   "metadata": {},
   "outputs": [],
   "source": [
    "m=len(data.index)\n",
    "for i in range(m):\n",
    "    if(data.loc[i]['Retain_D']):\n",
    "         result_cnt[data.loc[i]['State Code']]=result_cnt[data.loc[i]['State Code']]+1; \n",
    "    result_per[data.loc[i]['State Code']]=result_per[data.loc[i]['State Code']]+1;  \n",
    "#len(result_cnt  )  \n"
   ]
  },
  {
   "cell_type": "code",
   "execution_count": 83,
   "metadata": {},
   "outputs": [
    {
     "data": {
      "text/plain": [
       "[0,\n",
       " 1,\n",
       " 2,\n",
       " 3,\n",
       " 4,\n",
       " 5,\n",
       " 6,\n",
       " 7,\n",
       " 8,\n",
       " 9,\n",
       " 10,\n",
       " 11,\n",
       " 12,\n",
       " 13,\n",
       " 14,\n",
       " 15,\n",
       " 16,\n",
       " 17,\n",
       " 18,\n",
       " 19,\n",
       " 20,\n",
       " 21,\n",
       " 22,\n",
       " 23,\n",
       " 24,\n",
       " 25,\n",
       " 26,\n",
       " 27,\n",
       " 28,\n",
       " 29,\n",
       " 30,\n",
       " 31,\n",
       " 32,\n",
       " 33,\n",
       " 34,\n",
       " 35,\n",
       " 36,\n",
       " 37,\n",
       " 38,\n",
       " 39,\n",
       " 40,\n",
       " 41,\n",
       " 42,\n",
       " 43,\n",
       " 44,\n",
       " 45,\n",
       " 46,\n",
       " 47,\n",
       " 48,\n",
       " 49,\n",
       " 50]"
      ]
     },
     "execution_count": 83,
     "metadata": {},
     "output_type": "execute_result"
    }
   ],
   "source": [
    "sorted(data['State Code'].unique())"
   ]
  },
  {
   "cell_type": "code",
   "execution_count": 84,
   "metadata": {},
   "outputs": [],
   "source": [
    "list23=result_cnt.items()#dictionary of number of members to retain the plan in each state\n",
    "enrolled1=pd.DataFrame(list23)\n",
    "enrolled1=enrolled1.sort_values([0],ascending=True, inplace=False, kind='quicksort')\n",
    "list231=result_per.items()#dictionary of total number of members enrolled in each state\n",
    "enrolled2=pd.DataFrame(list231)\n",
    "enrolled2=enrolled2.sort_values([0],ascending=True, inplace=False, kind='quicksort')\n",
    "raw=raw.sort_values(['State Code'],ascending=True, inplace=False, kind='quicksort')"
   ]
  },
  {
   "cell_type": "code",
   "execution_count": 85,
   "metadata": {},
   "outputs": [],
   "source": [
    "l1=[]\n",
    "l2=[]\n",
    "move=len(raw.index)\n",
    "for i in range(0,move):\n",
    "    l1.append(enrolled1.loc[i,1])\n",
    "    l2.append(enrolled2.loc[i,1])\n",
    "raw['Number of members retain']=l1\n",
    "raw['Total number of enrollment']=l2"
   ]
  },
  {
   "cell_type": "code",
   "execution_count": 86,
   "metadata": {},
   "outputs": [
    {
     "name": "stdout",
     "output_type": "stream",
     "text": [
      "16\n",
      "16\n"
     ]
    }
   ],
   "source": [
    "List1=result_cnt.items()#list of tuples\n",
    "List2=result_per.items()\n",
    "print(result_cnt[50])\n",
    "print(result_per[50])\n",
    "m=len(data.index)\n",
    "for k in result_cnt:\n",
    "    result_cnt[k]=(result_cnt[k]/result_per[k])*100;\n",
    "    \n",
    "List1=sorted(List1)"
   ]
  },
  {
   "cell_type": "code",
   "execution_count": 87,
   "metadata": {},
   "outputs": [
    {
     "data": {
      "image/png": "[encoded data removed]",
      "text/plain": [
       "<Figure size 432x288 with 1 Axes>"
      ]
     },
     "metadata": {},
     "output_type": "display_data"
    },
    {
     "name": "stdout",
     "output_type": "stream",
     "text": [
      "[(0, 100.0), (1, 93.64161849710982), (2, 84.21052631578947), (3, 64.58333333333334), (4, 76.52173913043478), (5, 79.06976744186046), (6, 87.67772511848341), (7, 88.0), (8, 92.85714285714286), (9, 89.6398069067954), (10, 89.58990536277602), (11, 90.81632653061224), (12, 88.67924528301887), (13, 91.6030534351145), (14, 95.82289055973267), (15, 88.71527777777779), (16, 91.52542372881356), (17, 95.54794520547945), (18, 95.83333333333334), (19, 93.85245901639344), (20, 88.88888888888889), (21, 95.40229885057471), (22, 87.87878787878788), (23, 82.6086956521739), (24, 88.58895705521472), (25, 87.5), (26, 77.77777777777779), (27, 92.28316326530613), (28, 100.0), (29, 85.71428571428571), (30, 89.1566265060241), (31, 89.67828418230563), (32, 95.1219512195122), (33, 82.6086956521739), (34, 84.30989583333334), (35, 89.49416342412452), (36, 90.32258064516128), (37, 90.52631578947368), (38, 90.57377049180327), (39, 90.9090909090909), (40, 78.44611528822055), (41, 80.0), (42, 88.16901408450704), (43, 84.83373884833739), (44, 90.6183368869936), (45, 90.03021148036254), (46, 94.02985074626866), (47, 93.7888198757764), (48, 92.27272727272727), (49, 95.65217391304348), (50, 100.0)]\n"
     ]
    }
   ],
   "source": [
    "x,y=zip(*List1)\n",
    "df=pd.DataFrame(List1)\n",
    "plt.plot(x,y)\n",
    "plt.bar(x,y)\n",
    "plt.scatter(x,y)\n",
    "plt.show()\n",
    "df.columns=['State_code','Retention_Rate']\n",
    "df.tail()\n",
    "print(List1)"
   ]
  },
  {
   "cell_type": "code",
   "execution_count": 88,
   "metadata": {},
   "outputs": [
    {
     "data": {
      "text/html": [
       "<div>\n",
       "<style scoped>\n",
       "    .dataframe tbody tr th:only-of-type {\n",
       "        vertical-align: middle;\n",
       "    }\n",
       "\n",
       "    .dataframe tbody tr th {\n",
       "        vertical-align: top;\n",
       "    }\n",
       "\n",
       "    .dataframe thead th {\n",
       "        text-align: right;\n",
       "    }\n",
       "</style>\n",
       "<table border=\"1\" class=\"dataframe\">\n",
       "  <thead>\n",
       "    <tr style=\"text-align: right;\">\n",
       "      <th></th>\n",
       "      <th>State Code</th>\n",
       "      <th>State Name</th>\n",
       "      <th>Cat</th>\n",
       "      <th>State att</th>\n",
       "      <th>Number of members retain</th>\n",
       "      <th>Total number of enrollment</th>\n",
       "    </tr>\n",
       "  </thead>\n",
       "  <tbody>\n",
       "    <tr>\n",
       "      <th>1</th>\n",
       "      <td>0</td>\n",
       "      <td>Alaska</td>\n",
       "      <td>state</td>\n",
       "      <td>AK</td>\n",
       "      <td>83</td>\n",
       "      <td>87</td>\n",
       "    </tr>\n",
       "    <tr>\n",
       "      <th>0</th>\n",
       "      <td>1</td>\n",
       "      <td>Alabama</td>\n",
       "      <td>state</td>\n",
       "      <td>AL</td>\n",
       "      <td>313</td>\n",
       "      <td>355</td>\n",
       "    </tr>\n",
       "    <tr>\n",
       "      <th>3</th>\n",
       "      <td>2</td>\n",
       "      <td>Arkansas</td>\n",
       "      <td>state</td>\n",
       "      <td>AR</td>\n",
       "      <td>2414</td>\n",
       "      <td>2693</td>\n",
       "    </tr>\n",
       "    <tr>\n",
       "      <th>2</th>\n",
       "      <td>3</td>\n",
       "      <td>Arizonas</td>\n",
       "      <td>state</td>\n",
       "      <td>AZ</td>\n",
       "      <td>1447</td>\n",
       "      <td>1568</td>\n",
       "    </tr>\n",
       "    <tr>\n",
       "      <th>4</th>\n",
       "      <td>4</td>\n",
       "      <td>California</td>\n",
       "      <td>state</td>\n",
       "      <td>CA</td>\n",
       "      <td>722</td>\n",
       "      <td>815</td>\n",
       "    </tr>\n",
       "  </tbody>\n",
       "</table>\n",
       "</div>"
      ],
      "text/plain": [
       "   State Code  State Name    Cat State att  Number of members retain  \\\n",
       "1           0      Alaska  state        AK                        83   \n",
       "0           1     Alabama  state        AL                       313   \n",
       "3           2    Arkansas  state        AR                      2414   \n",
       "2           3    Arizonas  state        AZ                      1447   \n",
       "4           4  California  state        CA                       722   \n",
       "\n",
       "   Total number of enrollment  \n",
       "1                          87  \n",
       "0                         355  \n",
       "3                        2693  \n",
       "2                        1568  \n",
       "4                         815  "
      ]
     },
     "execution_count": 88,
     "metadata": {},
     "output_type": "execute_result"
    }
   ],
   "source": [
    "raw.head()"
   ]
  },
  {
   "cell_type": "code",
   "execution_count": 89,
   "metadata": {},
   "outputs": [
    {
     "data": {
      "text/plain": [
       "array([ 0,  1,  2,  3,  4,  5,  6,  7,  8,  9, 10, 11, 12, 13, 14, 15, 16,\n",
       "       17, 18, 19, 20, 21, 22, 23, 24, 25, 26, 27, 28, 29, 30, 31, 32, 33,\n",
       "       34, 35, 36, 37, 38, 39, 40, 41, 42, 43, 44, 45, 46, 47, 48, 49, 50],\n",
       "      dtype=int64)"
      ]
     },
     "execution_count": 89,
     "metadata": {},
     "output_type": "execute_result"
    }
   ],
   "source": [
    "lst1#containg State code of data dataframe\n",
    "df.sort_values('State_code')\n",
    "df['State_code'].unique()"
   ]
  },
  {
   "cell_type": "code",
   "execution_count": 90,
   "metadata": {},
   "outputs": [
    {
     "name": "stdout",
     "output_type": "stream",
     "text": [
      "set()\n"
     ]
    },
    {
     "data": {
      "text/html": [
       "<div>\n",
       "<style scoped>\n",
       "    .dataframe tbody tr th:only-of-type {\n",
       "        vertical-align: middle;\n",
       "    }\n",
       "\n",
       "    .dataframe tbody tr th {\n",
       "        vertical-align: top;\n",
       "    }\n",
       "\n",
       "    .dataframe thead th {\n",
       "        text-align: right;\n",
       "    }\n",
       "</style>\n",
       "<table border=\"1\" class=\"dataframe\">\n",
       "  <thead>\n",
       "    <tr style=\"text-align: right;\">\n",
       "      <th></th>\n",
       "      <th>State Code</th>\n",
       "      <th>State Name</th>\n",
       "      <th>Cat</th>\n",
       "      <th>State att</th>\n",
       "      <th>Number of members retain</th>\n",
       "      <th>Total number of enrollment</th>\n",
       "    </tr>\n",
       "  </thead>\n",
       "  <tbody>\n",
       "    <tr>\n",
       "      <th>1</th>\n",
       "      <td>0</td>\n",
       "      <td>Alaska</td>\n",
       "      <td>state</td>\n",
       "      <td>AK</td>\n",
       "      <td>83</td>\n",
       "      <td>87</td>\n",
       "    </tr>\n",
       "    <tr>\n",
       "      <th>0</th>\n",
       "      <td>1</td>\n",
       "      <td>Alabama</td>\n",
       "      <td>state</td>\n",
       "      <td>AL</td>\n",
       "      <td>313</td>\n",
       "      <td>355</td>\n",
       "    </tr>\n",
       "    <tr>\n",
       "      <th>3</th>\n",
       "      <td>2</td>\n",
       "      <td>Arkansas</td>\n",
       "      <td>state</td>\n",
       "      <td>AR</td>\n",
       "      <td>2414</td>\n",
       "      <td>2693</td>\n",
       "    </tr>\n",
       "    <tr>\n",
       "      <th>2</th>\n",
       "      <td>3</td>\n",
       "      <td>Arizonas</td>\n",
       "      <td>state</td>\n",
       "      <td>AZ</td>\n",
       "      <td>1447</td>\n",
       "      <td>1568</td>\n",
       "    </tr>\n",
       "    <tr>\n",
       "      <th>4</th>\n",
       "      <td>4</td>\n",
       "      <td>California</td>\n",
       "      <td>state</td>\n",
       "      <td>CA</td>\n",
       "      <td>722</td>\n",
       "      <td>815</td>\n",
       "    </tr>\n",
       "    <tr>\n",
       "      <th>5</th>\n",
       "      <td>5</td>\n",
       "      <td>Colorado</td>\n",
       "      <td>state</td>\n",
       "      <td>CO</td>\n",
       "      <td>324</td>\n",
       "      <td>346</td>\n",
       "    </tr>\n",
       "    <tr>\n",
       "      <th>6</th>\n",
       "      <td>6</td>\n",
       "      <td>Connecticut</td>\n",
       "      <td>state</td>\n",
       "      <td>CT</td>\n",
       "      <td>1295</td>\n",
       "      <td>1536</td>\n",
       "    </tr>\n",
       "    <tr>\n",
       "      <th>50</th>\n",
       "      <td>7</td>\n",
       "      <td>Derek</td>\n",
       "      <td>state</td>\n",
       "      <td>DC</td>\n",
       "      <td>89</td>\n",
       "      <td>98</td>\n",
       "    </tr>\n",
       "    <tr>\n",
       "      <th>7</th>\n",
       "      <td>8</td>\n",
       "      <td>Delaware</td>\n",
       "      <td>state</td>\n",
       "      <td>DE</td>\n",
       "      <td>1015</td>\n",
       "      <td>1100</td>\n",
       "    </tr>\n",
       "    <tr>\n",
       "      <th>8</th>\n",
       "      <td>9</td>\n",
       "      <td>Florida</td>\n",
       "      <td>state</td>\n",
       "      <td>FL</td>\n",
       "      <td>1704</td>\n",
       "      <td>1902</td>\n",
       "    </tr>\n",
       "    <tr>\n",
       "      <th>9</th>\n",
       "      <td>10</td>\n",
       "      <td>Georgia</td>\n",
       "      <td>state</td>\n",
       "      <td>GA</td>\n",
       "      <td>460</td>\n",
       "      <td>514</td>\n",
       "    </tr>\n",
       "    <tr>\n",
       "      <th>10</th>\n",
       "      <td>11</td>\n",
       "      <td>Hawaii</td>\n",
       "      <td>state</td>\n",
       "      <td>HI</td>\n",
       "      <td>1046</td>\n",
       "      <td>1233</td>\n",
       "    </tr>\n",
       "    <tr>\n",
       "      <th>14</th>\n",
       "      <td>12</td>\n",
       "      <td>Iowa</td>\n",
       "      <td>state</td>\n",
       "      <td>IA</td>\n",
       "      <td>1147</td>\n",
       "      <td>1197</td>\n",
       "    </tr>\n",
       "    <tr>\n",
       "      <th>11</th>\n",
       "      <td>13</td>\n",
       "      <td>Idaho</td>\n",
       "      <td>state</td>\n",
       "      <td>ID</td>\n",
       "      <td>86</td>\n",
       "      <td>95</td>\n",
       "    </tr>\n",
       "    <tr>\n",
       "      <th>12</th>\n",
       "      <td>14</td>\n",
       "      <td>Illinois</td>\n",
       "      <td>state</td>\n",
       "      <td>IL</td>\n",
       "      <td>160</td>\n",
       "      <td>176</td>\n",
       "    </tr>\n",
       "    <tr>\n",
       "      <th>13</th>\n",
       "      <td>15</td>\n",
       "      <td>Indiana</td>\n",
       "      <td>state</td>\n",
       "      <td>IN</td>\n",
       "      <td>425</td>\n",
       "      <td>469</td>\n",
       "    </tr>\n",
       "    <tr>\n",
       "      <th>15</th>\n",
       "      <td>16</td>\n",
       "      <td>Kansas</td>\n",
       "      <td>state</td>\n",
       "      <td>KS</td>\n",
       "      <td>126</td>\n",
       "      <td>147</td>\n",
       "    </tr>\n",
       "    <tr>\n",
       "      <th>16</th>\n",
       "      <td>17</td>\n",
       "      <td>Kentucky</td>\n",
       "      <td>state</td>\n",
       "      <td>KY</td>\n",
       "      <td>68</td>\n",
       "      <td>86</td>\n",
       "    </tr>\n",
       "    <tr>\n",
       "      <th>17</th>\n",
       "      <td>18</td>\n",
       "      <td>Louisiana</td>\n",
       "      <td>state</td>\n",
       "      <td>LA</td>\n",
       "      <td>511</td>\n",
       "      <td>576</td>\n",
       "    </tr>\n",
       "    <tr>\n",
       "      <th>20</th>\n",
       "      <td>19</td>\n",
       "      <td>Massachusetts</td>\n",
       "      <td>state</td>\n",
       "      <td>MA</td>\n",
       "      <td>217</td>\n",
       "      <td>336</td>\n",
       "    </tr>\n",
       "    <tr>\n",
       "      <th>19</th>\n",
       "      <td>20</td>\n",
       "      <td>Maryland</td>\n",
       "      <td>state</td>\n",
       "      <td>MD</td>\n",
       "      <td>141</td>\n",
       "      <td>159</td>\n",
       "    </tr>\n",
       "    <tr>\n",
       "      <th>18</th>\n",
       "      <td>21</td>\n",
       "      <td>Maine</td>\n",
       "      <td>state</td>\n",
       "      <td>ME</td>\n",
       "      <td>80</td>\n",
       "      <td>90</td>\n",
       "    </tr>\n",
       "    <tr>\n",
       "      <th>21</th>\n",
       "      <td>22</td>\n",
       "      <td>Michigan</td>\n",
       "      <td>state</td>\n",
       "      <td>MI</td>\n",
       "      <td>370</td>\n",
       "      <td>422</td>\n",
       "    </tr>\n",
       "    <tr>\n",
       "      <th>22</th>\n",
       "      <td>23</td>\n",
       "      <td>Minnesota</td>\n",
       "      <td>state</td>\n",
       "      <td>MN</td>\n",
       "      <td>626</td>\n",
       "      <td>798</td>\n",
       "    </tr>\n",
       "    <tr>\n",
       "      <th>24</th>\n",
       "      <td>24</td>\n",
       "      <td>Missouri</td>\n",
       "      <td>state</td>\n",
       "      <td>MO</td>\n",
       "      <td>229</td>\n",
       "      <td>244</td>\n",
       "    </tr>\n",
       "    <tr>\n",
       "      <th>23</th>\n",
       "      <td>25</td>\n",
       "      <td>Mississippi</td>\n",
       "      <td>state</td>\n",
       "      <td>MS</td>\n",
       "      <td>54</td>\n",
       "      <td>59</td>\n",
       "    </tr>\n",
       "    <tr>\n",
       "      <th>25</th>\n",
       "      <td>26</td>\n",
       "      <td>Montana</td>\n",
       "      <td>state</td>\n",
       "      <td>MT</td>\n",
       "      <td>151</td>\n",
       "      <td>161</td>\n",
       "    </tr>\n",
       "    <tr>\n",
       "      <th>32</th>\n",
       "      <td>27</td>\n",
       "      <td>North Carolina</td>\n",
       "      <td>state</td>\n",
       "      <td>NC</td>\n",
       "      <td>78</td>\n",
       "      <td>82</td>\n",
       "    </tr>\n",
       "    <tr>\n",
       "      <th>33</th>\n",
       "      <td>28</td>\n",
       "      <td>North Dakota</td>\n",
       "      <td>state</td>\n",
       "      <td>ND</td>\n",
       "      <td>298</td>\n",
       "      <td>331</td>\n",
       "    </tr>\n",
       "    <tr>\n",
       "      <th>26</th>\n",
       "      <td>29</td>\n",
       "      <td>Nebraska</td>\n",
       "      <td>state</td>\n",
       "      <td>NE</td>\n",
       "      <td>120</td>\n",
       "      <td>131</td>\n",
       "    </tr>\n",
       "    <tr>\n",
       "      <th>28</th>\n",
       "      <td>30</td>\n",
       "      <td>New Hampshire</td>\n",
       "      <td>state</td>\n",
       "      <td>NH</td>\n",
       "      <td>221</td>\n",
       "      <td>244</td>\n",
       "    </tr>\n",
       "    <tr>\n",
       "      <th>29</th>\n",
       "      <td>31</td>\n",
       "      <td>New Jersey</td>\n",
       "      <td>state</td>\n",
       "      <td>NJ</td>\n",
       "      <td>16</td>\n",
       "      <td>16</td>\n",
       "    </tr>\n",
       "    <tr>\n",
       "      <th>30</th>\n",
       "      <td>32</td>\n",
       "      <td>New Mexico</td>\n",
       "      <td>state</td>\n",
       "      <td>NM</td>\n",
       "      <td>192</td>\n",
       "      <td>228</td>\n",
       "    </tr>\n",
       "    <tr>\n",
       "      <th>27</th>\n",
       "      <td>33</td>\n",
       "      <td>Nevada</td>\n",
       "      <td>state</td>\n",
       "      <td>NV</td>\n",
       "      <td>669</td>\n",
       "      <td>746</td>\n",
       "    </tr>\n",
       "    <tr>\n",
       "      <th>31</th>\n",
       "      <td>34</td>\n",
       "      <td>New York</td>\n",
       "      <td>state</td>\n",
       "      <td>NY</td>\n",
       "      <td>279</td>\n",
       "      <td>292</td>\n",
       "    </tr>\n",
       "    <tr>\n",
       "      <th>34</th>\n",
       "      <td>35</td>\n",
       "      <td>Ohio</td>\n",
       "      <td>state</td>\n",
       "      <td>OH</td>\n",
       "      <td>63</td>\n",
       "      <td>67</td>\n",
       "    </tr>\n",
       "    <tr>\n",
       "      <th>35</th>\n",
       "      <td>36</td>\n",
       "      <td>Oklahoma</td>\n",
       "      <td>state</td>\n",
       "      <td>OK</td>\n",
       "      <td>58</td>\n",
       "      <td>66</td>\n",
       "    </tr>\n",
       "    <tr>\n",
       "      <th>36</th>\n",
       "      <td>37</td>\n",
       "      <td>Oregon</td>\n",
       "      <td>state</td>\n",
       "      <td>OR</td>\n",
       "      <td>176</td>\n",
       "      <td>230</td>\n",
       "    </tr>\n",
       "    <tr>\n",
       "      <th>37</th>\n",
       "      <td>38</td>\n",
       "      <td>Pennsylvania</td>\n",
       "      <td>state</td>\n",
       "      <td>PA</td>\n",
       "      <td>56</td>\n",
       "      <td>62</td>\n",
       "    </tr>\n",
       "    <tr>\n",
       "      <th>38</th>\n",
       "      <td>39</td>\n",
       "      <td>Rhode Island</td>\n",
       "      <td>state</td>\n",
       "      <td>RI</td>\n",
       "      <td>19</td>\n",
       "      <td>23</td>\n",
       "    </tr>\n",
       "    <tr>\n",
       "      <th>39</th>\n",
       "      <td>40</td>\n",
       "      <td>South Carolina</td>\n",
       "      <td>state</td>\n",
       "      <td>SC</td>\n",
       "      <td>7</td>\n",
       "      <td>9</td>\n",
       "    </tr>\n",
       "    <tr>\n",
       "      <th>40</th>\n",
       "      <td>41</td>\n",
       "      <td>South Dakota</td>\n",
       "      <td>state</td>\n",
       "      <td>SD</td>\n",
       "      <td>4</td>\n",
       "      <td>4</td>\n",
       "    </tr>\n",
       "    <tr>\n",
       "      <th>41</th>\n",
       "      <td>42</td>\n",
       "      <td>Tennessee</td>\n",
       "      <td>state</td>\n",
       "      <td>TN</td>\n",
       "      <td>4</td>\n",
       "      <td>5</td>\n",
       "    </tr>\n",
       "    <tr>\n",
       "      <th>42</th>\n",
       "      <td>43</td>\n",
       "      <td>Texas</td>\n",
       "      <td>state</td>\n",
       "      <td>TX</td>\n",
       "      <td>22</td>\n",
       "      <td>23</td>\n",
       "    </tr>\n",
       "    <tr>\n",
       "      <th>43</th>\n",
       "      <td>44</td>\n",
       "      <td>Utah</td>\n",
       "      <td>state</td>\n",
       "      <td>UT</td>\n",
       "      <td>74</td>\n",
       "      <td>83</td>\n",
       "    </tr>\n",
       "    <tr>\n",
       "      <th>45</th>\n",
       "      <td>45</td>\n",
       "      <td>Virginia</td>\n",
       "      <td>state</td>\n",
       "      <td>VA</td>\n",
       "      <td>22</td>\n",
       "      <td>25</td>\n",
       "    </tr>\n",
       "    <tr>\n",
       "      <th>44</th>\n",
       "      <td>46</td>\n",
       "      <td>Vermont</td>\n",
       "      <td>state</td>\n",
       "      <td>VT</td>\n",
       "      <td>13</td>\n",
       "      <td>14</td>\n",
       "    </tr>\n",
       "    <tr>\n",
       "      <th>46</th>\n",
       "      <td>47</td>\n",
       "      <td>Washington</td>\n",
       "      <td>state</td>\n",
       "      <td>WA</td>\n",
       "      <td>19</td>\n",
       "      <td>23</td>\n",
       "    </tr>\n",
       "    <tr>\n",
       "      <th>48</th>\n",
       "      <td>48</td>\n",
       "      <td>Wisconsin</td>\n",
       "      <td>state</td>\n",
       "      <td>WI</td>\n",
       "      <td>23</td>\n",
       "      <td>24</td>\n",
       "    </tr>\n",
       "    <tr>\n",
       "      <th>47</th>\n",
       "      <td>49</td>\n",
       "      <td>West Virginia</td>\n",
       "      <td>state</td>\n",
       "      <td>WV</td>\n",
       "      <td>7</td>\n",
       "      <td>8</td>\n",
       "    </tr>\n",
       "    <tr>\n",
       "      <th>49</th>\n",
       "      <td>50</td>\n",
       "      <td>Wyoming</td>\n",
       "      <td>state</td>\n",
       "      <td>WY</td>\n",
       "      <td>2</td>\n",
       "      <td>2</td>\n",
       "    </tr>\n",
       "  </tbody>\n",
       "</table>\n",
       "</div>"
      ],
      "text/plain": [
       "    State Code      State Name    Cat State att  Number of members retain  \\\n",
       "1            0          Alaska  state        AK                        83   \n",
       "0            1         Alabama  state        AL                       313   \n",
       "3            2        Arkansas  state        AR                      2414   \n",
       "2            3        Arizonas  state        AZ                      1447   \n",
       "4            4      California  state        CA                       722   \n",
       "5            5        Colorado  state        CO                       324   \n",
       "6            6     Connecticut  state        CT                      1295   \n",
       "50           7           Derek  state        DC                        89   \n",
       "7            8        Delaware  state        DE                      1015   \n",
       "8            9         Florida  state        FL                      1704   \n",
       "9           10         Georgia  state        GA                       460   \n",
       "10          11          Hawaii  state        HI                      1046   \n",
       "14          12            Iowa  state        IA                      1147   \n",
       "11          13           Idaho  state        ID                        86   \n",
       "12          14        Illinois  state        IL                       160   \n",
       "13          15         Indiana  state        IN                       425   \n",
       "15          16          Kansas  state        KS                       126   \n",
       "16          17        Kentucky  state        KY                        68   \n",
       "17          18       Louisiana  state        LA                       511   \n",
       "20          19   Massachusetts  state        MA                       217   \n",
       "19          20        Maryland  state        MD                       141   \n",
       "18          21           Maine  state        ME                        80   \n",
       "21          22        Michigan  state        MI                       370   \n",
       "22          23       Minnesota  state        MN                       626   \n",
       "24          24        Missouri  state        MO                       229   \n",
       "23          25     Mississippi  state        MS                        54   \n",
       "25          26         Montana  state        MT                       151   \n",
       "32          27  North Carolina  state        NC                        78   \n",
       "33          28    North Dakota  state        ND                       298   \n",
       "26          29        Nebraska  state        NE                       120   \n",
       "28          30   New Hampshire  state        NH                       221   \n",
       "29          31      New Jersey  state        NJ                        16   \n",
       "30          32      New Mexico  state        NM                       192   \n",
       "27          33          Nevada  state        NV                       669   \n",
       "31          34        New York  state        NY                       279   \n",
       "34          35            Ohio  state        OH                        63   \n",
       "35          36        Oklahoma  state        OK                        58   \n",
       "36          37          Oregon  state        OR                       176   \n",
       "37          38    Pennsylvania  state        PA                        56   \n",
       "38          39    Rhode Island  state        RI                        19   \n",
       "39          40  South Carolina  state        SC                         7   \n",
       "40          41    South Dakota  state        SD                         4   \n",
       "41          42       Tennessee  state        TN                         4   \n",
       "42          43           Texas  state        TX                        22   \n",
       "43          44            Utah  state        UT                        74   \n",
       "45          45        Virginia  state        VA                        22   \n",
       "44          46         Vermont  state        VT                        13   \n",
       "46          47      Washington  state        WA                        19   \n",
       "48          48       Wisconsin  state        WI                        23   \n",
       "47          49   West Virginia  state        WV                         7   \n",
       "49          50         Wyoming  state        WY                         2   \n",
       "\n",
       "    Total number of enrollment  \n",
       "1                           87  \n",
       "0                          355  \n",
       "3                         2693  \n",
       "2                         1568  \n",
       "4                          815  \n",
       "5                          346  \n",
       "6                         1536  \n",
       "50                          98  \n",
       "7                         1100  \n",
       "8                         1902  \n",
       "9                          514  \n",
       "10                        1233  \n",
       "14                        1197  \n",
       "11                          95  \n",
       "12                         176  \n",
       "13                         469  \n",
       "15                         147  \n",
       "16                          86  \n",
       "17                         576  \n",
       "20                         336  \n",
       "19                         159  \n",
       "18                          90  \n",
       "21                         422  \n",
       "22                         798  \n",
       "24                         244  \n",
       "23                          59  \n",
       "25                         161  \n",
       "32                          82  \n",
       "33                         331  \n",
       "26                         131  \n",
       "28                         244  \n",
       "29                          16  \n",
       "30                         228  \n",
       "27                         746  \n",
       "31                         292  \n",
       "34                          67  \n",
       "35                          66  \n",
       "36                         230  \n",
       "37                          62  \n",
       "38                          23  \n",
       "39                           9  \n",
       "40                           4  \n",
       "41                           5  \n",
       "42                          23  \n",
       "43                          83  \n",
       "45                          25  \n",
       "44                          14  \n",
       "46                          23  \n",
       "48                          24  \n",
       "47                           8  \n",
       "49                           2  "
      ]
     },
     "execution_count": 90,
     "metadata": {},
     "output_type": "execute_result"
    }
   ],
   "source": [
    "A=set(raw['State Code'])\n",
    "B=set(df['State_code'])\n",
    "print(A.difference(B))#to check if any state code left under observation\n",
    "raw.sort_values(by='State Code')"
   ]
  },
  {
   "cell_type": "code",
   "execution_count": 91,
   "metadata": {},
   "outputs": [],
   "source": [
    "li=[]\n",
    "for i in range(0,len(df.index)):\n",
    "    li.append(df.loc[i,'Retention_Rate'])  \n",
    "raw['Retention_Rate']=li    "
   ]
  },
  {
   "cell_type": "code",
   "execution_count": 97,
   "metadata": {},
   "outputs": [
    {
     "data": {
      "text/html": [
       "<div>\n",
       "<style scoped>\n",
       "    .dataframe tbody tr th:only-of-type {\n",
       "        vertical-align: middle;\n",
       "    }\n",
       "\n",
       "    .dataframe tbody tr th {\n",
       "        vertical-align: top;\n",
       "    }\n",
       "\n",
       "    .dataframe thead th {\n",
       "        text-align: right;\n",
       "    }\n",
       "</style>\n",
       "<table border=\"1\" class=\"dataframe\">\n",
       "  <thead>\n",
       "    <tr style=\"text-align: right;\">\n",
       "      <th></th>\n",
       "      <th>State Code</th>\n",
       "      <th>State Name</th>\n",
       "      <th>Cat</th>\n",
       "      <th>State att</th>\n",
       "      <th>Number of members retain</th>\n",
       "      <th>Total number of enrollment</th>\n",
       "      <th>Retention_Rate</th>\n",
       "    </tr>\n",
       "  </thead>\n",
       "  <tbody>\n",
       "    <tr>\n",
       "      <th>7</th>\n",
       "      <td>8</td>\n",
       "      <td>Delaware</td>\n",
       "      <td>state</td>\n",
       "      <td>DE</td>\n",
       "      <td>1015</td>\n",
       "      <td>1100</td>\n",
       "      <td>92.857143</td>\n",
       "    </tr>\n",
       "    <tr>\n",
       "      <th>23</th>\n",
       "      <td>25</td>\n",
       "      <td>Mississippi</td>\n",
       "      <td>state</td>\n",
       "      <td>MS</td>\n",
       "      <td>54</td>\n",
       "      <td>59</td>\n",
       "      <td>87.500000</td>\n",
       "    </tr>\n",
       "    <tr>\n",
       "      <th>41</th>\n",
       "      <td>42</td>\n",
       "      <td>Tennessee</td>\n",
       "      <td>state</td>\n",
       "      <td>TN</td>\n",
       "      <td>4</td>\n",
       "      <td>5</td>\n",
       "      <td>88.169014</td>\n",
       "    </tr>\n",
       "    <tr>\n",
       "      <th>50</th>\n",
       "      <td>7</td>\n",
       "      <td>Derek</td>\n",
       "      <td>state</td>\n",
       "      <td>DC</td>\n",
       "      <td>89</td>\n",
       "      <td>98</td>\n",
       "      <td>88.000000</td>\n",
       "    </tr>\n",
       "    <tr>\n",
       "      <th>20</th>\n",
       "      <td>19</td>\n",
       "      <td>Massachusetts</td>\n",
       "      <td>state</td>\n",
       "      <td>MA</td>\n",
       "      <td>217</td>\n",
       "      <td>336</td>\n",
       "      <td>93.852459</td>\n",
       "    </tr>\n",
       "    <tr>\n",
       "      <th>6</th>\n",
       "      <td>6</td>\n",
       "      <td>Connecticut</td>\n",
       "      <td>state</td>\n",
       "      <td>CT</td>\n",
       "      <td>1295</td>\n",
       "      <td>1536</td>\n",
       "      <td>87.677725</td>\n",
       "    </tr>\n",
       "    <tr>\n",
       "      <th>45</th>\n",
       "      <td>45</td>\n",
       "      <td>Virginia</td>\n",
       "      <td>state</td>\n",
       "      <td>VA</td>\n",
       "      <td>22</td>\n",
       "      <td>25</td>\n",
       "      <td>90.030211</td>\n",
       "    </tr>\n",
       "    <tr>\n",
       "      <th>1</th>\n",
       "      <td>0</td>\n",
       "      <td>Alaska</td>\n",
       "      <td>state</td>\n",
       "      <td>AK</td>\n",
       "      <td>83</td>\n",
       "      <td>87</td>\n",
       "      <td>100.000000</td>\n",
       "    </tr>\n",
       "    <tr>\n",
       "      <th>33</th>\n",
       "      <td>28</td>\n",
       "      <td>North Dakota</td>\n",
       "      <td>state</td>\n",
       "      <td>ND</td>\n",
       "      <td>298</td>\n",
       "      <td>331</td>\n",
       "      <td>100.000000</td>\n",
       "    </tr>\n",
       "    <tr>\n",
       "      <th>28</th>\n",
       "      <td>30</td>\n",
       "      <td>New Hampshire</td>\n",
       "      <td>state</td>\n",
       "      <td>NH</td>\n",
       "      <td>221</td>\n",
       "      <td>244</td>\n",
       "      <td>89.156627</td>\n",
       "    </tr>\n",
       "    <tr>\n",
       "      <th>11</th>\n",
       "      <td>13</td>\n",
       "      <td>Idaho</td>\n",
       "      <td>state</td>\n",
       "      <td>ID</td>\n",
       "      <td>86</td>\n",
       "      <td>95</td>\n",
       "      <td>91.603053</td>\n",
       "    </tr>\n",
       "    <tr>\n",
       "      <th>35</th>\n",
       "      <td>36</td>\n",
       "      <td>Oklahoma</td>\n",
       "      <td>state</td>\n",
       "      <td>OK</td>\n",
       "      <td>58</td>\n",
       "      <td>66</td>\n",
       "      <td>90.322581</td>\n",
       "    </tr>\n",
       "    <tr>\n",
       "      <th>32</th>\n",
       "      <td>27</td>\n",
       "      <td>North Carolina</td>\n",
       "      <td>state</td>\n",
       "      <td>NC</td>\n",
       "      <td>78</td>\n",
       "      <td>82</td>\n",
       "      <td>92.283163</td>\n",
       "    </tr>\n",
       "    <tr>\n",
       "      <th>38</th>\n",
       "      <td>39</td>\n",
       "      <td>Rhode Island</td>\n",
       "      <td>state</td>\n",
       "      <td>RI</td>\n",
       "      <td>19</td>\n",
       "      <td>23</td>\n",
       "      <td>90.909091</td>\n",
       "    </tr>\n",
       "    <tr>\n",
       "      <th>19</th>\n",
       "      <td>20</td>\n",
       "      <td>Maryland</td>\n",
       "      <td>state</td>\n",
       "      <td>MD</td>\n",
       "      <td>141</td>\n",
       "      <td>159</td>\n",
       "      <td>88.888889</td>\n",
       "    </tr>\n",
       "    <tr>\n",
       "      <th>48</th>\n",
       "      <td>48</td>\n",
       "      <td>Wisconsin</td>\n",
       "      <td>state</td>\n",
       "      <td>WI</td>\n",
       "      <td>23</td>\n",
       "      <td>24</td>\n",
       "      <td>92.272727</td>\n",
       "    </tr>\n",
       "    <tr>\n",
       "      <th>25</th>\n",
       "      <td>26</td>\n",
       "      <td>Montana</td>\n",
       "      <td>state</td>\n",
       "      <td>MT</td>\n",
       "      <td>151</td>\n",
       "      <td>161</td>\n",
       "      <td>77.777778</td>\n",
       "    </tr>\n",
       "    <tr>\n",
       "      <th>8</th>\n",
       "      <td>9</td>\n",
       "      <td>Florida</td>\n",
       "      <td>state</td>\n",
       "      <td>FL</td>\n",
       "      <td>1704</td>\n",
       "      <td>1902</td>\n",
       "      <td>89.639807</td>\n",
       "    </tr>\n",
       "    <tr>\n",
       "      <th>39</th>\n",
       "      <td>40</td>\n",
       "      <td>South Carolina</td>\n",
       "      <td>state</td>\n",
       "      <td>SC</td>\n",
       "      <td>7</td>\n",
       "      <td>9</td>\n",
       "      <td>78.446115</td>\n",
       "    </tr>\n",
       "    <tr>\n",
       "      <th>40</th>\n",
       "      <td>41</td>\n",
       "      <td>South Dakota</td>\n",
       "      <td>state</td>\n",
       "      <td>SD</td>\n",
       "      <td>4</td>\n",
       "      <td>4</td>\n",
       "      <td>80.000000</td>\n",
       "    </tr>\n",
       "  </tbody>\n",
       "</table>\n",
       "</div>"
      ],
      "text/plain": [
       "    State Code      State Name    Cat State att  Number of members retain  \\\n",
       "7            8        Delaware  state        DE                      1015   \n",
       "23          25     Mississippi  state        MS                        54   \n",
       "41          42       Tennessee  state        TN                         4   \n",
       "50           7           Derek  state        DC                        89   \n",
       "20          19   Massachusetts  state        MA                       217   \n",
       "6            6     Connecticut  state        CT                      1295   \n",
       "45          45        Virginia  state        VA                        22   \n",
       "1            0          Alaska  state        AK                        83   \n",
       "33          28    North Dakota  state        ND                       298   \n",
       "28          30   New Hampshire  state        NH                       221   \n",
       "11          13           Idaho  state        ID                        86   \n",
       "35          36        Oklahoma  state        OK                        58   \n",
       "32          27  North Carolina  state        NC                        78   \n",
       "38          39    Rhode Island  state        RI                        19   \n",
       "19          20        Maryland  state        MD                       141   \n",
       "48          48       Wisconsin  state        WI                        23   \n",
       "25          26         Montana  state        MT                       151   \n",
       "8            9         Florida  state        FL                      1704   \n",
       "39          40  South Carolina  state        SC                         7   \n",
       "40          41    South Dakota  state        SD                         4   \n",
       "\n",
       "    Total number of enrollment  Retention_Rate  \n",
       "7                         1100       92.857143  \n",
       "23                          59       87.500000  \n",
       "41                           5       88.169014  \n",
       "50                          98       88.000000  \n",
       "20                         336       93.852459  \n",
       "6                         1536       87.677725  \n",
       "45                          25       90.030211  \n",
       "1                           87      100.000000  \n",
       "33                         331      100.000000  \n",
       "28                         244       89.156627  \n",
       "11                          95       91.603053  \n",
       "35                          66       90.322581  \n",
       "32                          82       92.283163  \n",
       "38                          23       90.909091  \n",
       "19                         159       88.888889  \n",
       "48                          24       92.272727  \n",
       "25                         161       77.777778  \n",
       "8                         1902       89.639807  \n",
       "39                           9       78.446115  \n",
       "40                           4       80.000000  "
      ]
     },
     "execution_count": 97,
     "metadata": {},
     "output_type": "execute_result"
    }
   ],
   "source": [
    "raw.to_csv(r\"C:\\Users\\naggar25\\Desktop\\Mem1.csv\")\n",
    "raw.sample(20)"
   ]
  },
  {
   "cell_type": "code",
   "execution_count": 98,
   "metadata": {
    "scrolled": true
   },
   "outputs": [
    {
     "name": "stdout",
     "output_type": "stream",
     "text": [
      "95.82289055973267\n"
     ]
    },
    {
     "data": {
      "image/png": "[encoded data removed]",
      "text/plain": [
       "<Figure size 432x288 with 1 Axes>"
      ]
     },
     "metadata": {},
     "output_type": "display_data"
    }
   ],
   "source": [
    "import matplotlib.pyplot as plotter\n",
    "#explodeTuple = (0.1,0.2)\n",
    "pieLabels=['Retain','Non-Retain']\n",
    "figureObject, axesObject = plotter.subplots()\n",
    "m=df.loc[14]['Retention_Rate']\n",
    "print(m)\n",
    "axesObject.pie([m,100-m],labels=pieLabels,autopct='%1.2f',startangle=90)\n",
    "# Aspect ratio - equal means pie is a circle\n",
    "axesObject.axis('equal')\n",
    "plotter.show()"
   ]
  },
  {
   "cell_type": "code",
   "execution_count": 99,
   "metadata": {},
   "outputs": [],
   "source": [
    "data.to_csv('Out1', sep='\\t', encoding='utf-8')"
   ]
  },
  {
   "cell_type": "code",
   "execution_count": 100,
   "metadata": {},
   "outputs": [],
   "source": [
    "import plotly\n",
    "#plotly.__version__\n",
    "import plotly.plotly as py\n",
    "from plotly.offline import *\n",
    "import plotly.graph_objs as go\n",
    "import pandas as pd\n",
    "\n",
    "df = pd.read_csv(r\"C:\\Users\\naggar25\\Desktop\\Member1.csv\")\n",
    "df.head()\n",
    "df.drop('Unnamed: 0',inplace=True,axis=1)"
   ]
  },
  {
   "cell_type": "code",
   "execution_count": 101,
   "metadata": {},
   "outputs": [
    {
     "data": {
      "text/html": [
       "<div>\n",
       "<style scoped>\n",
       "    .dataframe tbody tr th:only-of-type {\n",
       "        vertical-align: middle;\n",
       "    }\n",
       "\n",
       "    .dataframe tbody tr th {\n",
       "        vertical-align: top;\n",
       "    }\n",
       "\n",
       "    .dataframe thead th {\n",
       "        text-align: right;\n",
       "    }\n",
       "</style>\n",
       "<table border=\"1\" class=\"dataframe\">\n",
       "  <thead>\n",
       "    <tr style=\"text-align: right;\">\n",
       "      <th></th>\n",
       "      <th>State Code</th>\n",
       "      <th>State Name</th>\n",
       "      <th>Cat</th>\n",
       "      <th>State att</th>\n",
       "      <th>Number of members retain</th>\n",
       "      <th>Total number of enrollment</th>\n",
       "      <th>Retention_Rate</th>\n",
       "    </tr>\n",
       "  </thead>\n",
       "  <tbody>\n",
       "    <tr>\n",
       "      <th>1</th>\n",
       "      <td>0</td>\n",
       "      <td>Alaska</td>\n",
       "      <td>state</td>\n",
       "      <td>AK</td>\n",
       "      <td>83</td>\n",
       "      <td>87</td>\n",
       "      <td>100.000000</td>\n",
       "    </tr>\n",
       "    <tr>\n",
       "      <th>0</th>\n",
       "      <td>1</td>\n",
       "      <td>Alabama</td>\n",
       "      <td>state</td>\n",
       "      <td>AL</td>\n",
       "      <td>313</td>\n",
       "      <td>355</td>\n",
       "      <td>93.641618</td>\n",
       "    </tr>\n",
       "    <tr>\n",
       "      <th>3</th>\n",
       "      <td>2</td>\n",
       "      <td>Arkansas</td>\n",
       "      <td>state</td>\n",
       "      <td>AR</td>\n",
       "      <td>2414</td>\n",
       "      <td>2693</td>\n",
       "      <td>84.210526</td>\n",
       "    </tr>\n",
       "    <tr>\n",
       "      <th>2</th>\n",
       "      <td>3</td>\n",
       "      <td>Arizonas</td>\n",
       "      <td>state</td>\n",
       "      <td>AZ</td>\n",
       "      <td>1447</td>\n",
       "      <td>1568</td>\n",
       "      <td>64.583333</td>\n",
       "    </tr>\n",
       "    <tr>\n",
       "      <th>4</th>\n",
       "      <td>4</td>\n",
       "      <td>California</td>\n",
       "      <td>state</td>\n",
       "      <td>CA</td>\n",
       "      <td>722</td>\n",
       "      <td>815</td>\n",
       "      <td>76.521739</td>\n",
       "    </tr>\n",
       "  </tbody>\n",
       "</table>\n",
       "</div>"
      ],
      "text/plain": [
       "   State Code  State Name    Cat State att  Number of members retain  \\\n",
       "1           0      Alaska  state        AK                        83   \n",
       "0           1     Alabama  state        AL                       313   \n",
       "3           2    Arkansas  state        AR                      2414   \n",
       "2           3    Arizonas  state        AZ                      1447   \n",
       "4           4  California  state        CA                       722   \n",
       "\n",
       "   Total number of enrollment  Retention_Rate  \n",
       "1                          87      100.000000  \n",
       "0                         355       93.641618  \n",
       "3                        2693       84.210526  \n",
       "2                        1568       64.583333  \n",
       "4                         815       76.521739  "
      ]
     },
     "execution_count": 101,
     "metadata": {},
     "output_type": "execute_result"
    }
   ],
   "source": [
    "raw.head()"
   ]
  },
  {
   "cell_type": "code",
   "execution_count": 102,
   "metadata": {},
   "outputs": [],
   "source": [
    "for col in raw.columns:\n",
    "    raw[col] = raw[col].astype(str)\n",
    "\n",
    "raw['text'] = raw['State Name']"
   ]
  },
  {
   "cell_type": "code",
   "execution_count": 103,
   "metadata": {},
   "outputs": [],
   "source": [
    "datag = [go.Choropleth(\n",
    "    colorscale = 'Reds',\n",
    "    autocolorscale = False,\n",
    "    locations = raw['State att'],\n",
    "    z = raw['Retention_Rate'].astype(float),\n",
    "    locationmode = 'USA-states',\n",
    "    text=raw['text'], # hover text\n",
    "    marker = go.choropleth.Marker(\n",
    "        line = go.choropleth.marker.Line(\n",
    "            color = 'rgb(255,255,255)',\n",
    "            width = 2\n",
    "        )),\n",
    "    colorbar = go.choropleth.ColorBar(\n",
    "        title = \"Retention Percentage\")\n",
    ")]"
   ]
  },
  {
   "cell_type": "code",
   "execution_count": 104,
   "metadata": {},
   "outputs": [],
   "source": [
    "layout = go.Layout(\n",
    "    title = go.layout.Title(\n",
    "        text = '2019 Prediction for Member Retention by State<br>(Hover for breakdown)'\n",
    "    ),\n",
    "    geo = go.layout.Geo(\n",
    "        scope = 'usa',\n",
    "        projection = go.layout.geo.Projection(type = 'albers usa'),\n",
    "        showlakes = True,\n",
    "        lakecolor = 'rgb(255, 255, 255)'),\n",
    ")"
   ]
  },
  {
   "cell_type": "code",
   "execution_count": 105,
   "metadata": {},
   "outputs": [
    {
     "data": {
      "text/plain": [
       "'InternFinalModel.html'"
      ]
     },
     "execution_count": 105,
     "metadata": {},
     "output_type": "execute_result"
    }
   ],
   "source": [
    "fig = go.Figure(data = datag, layout = layout)\n",
    "#fig.show()\n",
    "plotly.offline.plot(fig, filename='InternFinalModel.html')"
   ]
  },
  {
   "cell_type": "code",
   "execution_count": 106,
   "metadata": {},
   "outputs": [
    {
     "data": {
      "text/html": [
       "<div>\n",
       "<style scoped>\n",
       "    .dataframe tbody tr th:only-of-type {\n",
       "        vertical-align: middle;\n",
       "    }\n",
       "\n",
       "    .dataframe tbody tr th {\n",
       "        vertical-align: top;\n",
       "    }\n",
       "\n",
       "    .dataframe thead th {\n",
       "        text-align: right;\n",
       "    }\n",
       "</style>\n",
       "<table border=\"1\" class=\"dataframe\">\n",
       "  <thead>\n",
       "    <tr style=\"text-align: right;\">\n",
       "      <th></th>\n",
       "      <th>State Code</th>\n",
       "      <th>State Name</th>\n",
       "      <th>Cat</th>\n",
       "      <th>State att</th>\n",
       "      <th>Number of members retain</th>\n",
       "      <th>Total number of enrollment</th>\n",
       "      <th>Retention_Rate</th>\n",
       "      <th>text</th>\n",
       "    </tr>\n",
       "  </thead>\n",
       "  <tbody>\n",
       "    <tr>\n",
       "      <th>1</th>\n",
       "      <td>0</td>\n",
       "      <td>Alaska</td>\n",
       "      <td>state</td>\n",
       "      <td>AK</td>\n",
       "      <td>83</td>\n",
       "      <td>87</td>\n",
       "      <td>100.0</td>\n",
       "      <td>Alaska</td>\n",
       "    </tr>\n",
       "    <tr>\n",
       "      <th>0</th>\n",
       "      <td>1</td>\n",
       "      <td>Alabama</td>\n",
       "      <td>state</td>\n",
       "      <td>AL</td>\n",
       "      <td>313</td>\n",
       "      <td>355</td>\n",
       "      <td>93.64161849710982</td>\n",
       "      <td>Alabama</td>\n",
       "    </tr>\n",
       "    <tr>\n",
       "      <th>3</th>\n",
       "      <td>2</td>\n",
       "      <td>Arkansas</td>\n",
       "      <td>state</td>\n",
       "      <td>AR</td>\n",
       "      <td>2414</td>\n",
       "      <td>2693</td>\n",
       "      <td>84.21052631578947</td>\n",
       "      <td>Arkansas</td>\n",
       "    </tr>\n",
       "    <tr>\n",
       "      <th>2</th>\n",
       "      <td>3</td>\n",
       "      <td>Arizonas</td>\n",
       "      <td>state</td>\n",
       "      <td>AZ</td>\n",
       "      <td>1447</td>\n",
       "      <td>1568</td>\n",
       "      <td>64.58333333333334</td>\n",
       "      <td>Arizonas</td>\n",
       "    </tr>\n",
       "    <tr>\n",
       "      <th>4</th>\n",
       "      <td>4</td>\n",
       "      <td>California</td>\n",
       "      <td>state</td>\n",
       "      <td>CA</td>\n",
       "      <td>722</td>\n",
       "      <td>815</td>\n",
       "      <td>76.52173913043478</td>\n",
       "      <td>California</td>\n",
       "    </tr>\n",
       "  </tbody>\n",
       "</table>\n",
       "</div>"
      ],
      "text/plain": [
       "  State Code  State Name    Cat State att Number of members retain  \\\n",
       "1          0      Alaska  state        AK                       83   \n",
       "0          1     Alabama  state        AL                      313   \n",
       "3          2    Arkansas  state        AR                     2414   \n",
       "2          3    Arizonas  state        AZ                     1447   \n",
       "4          4  California  state        CA                      722   \n",
       "\n",
       "  Total number of enrollment     Retention_Rate        text  \n",
       "1                         87              100.0      Alaska  \n",
       "0                        355  93.64161849710982     Alabama  \n",
       "3                       2693  84.21052631578947    Arkansas  \n",
       "2                       1568  64.58333333333334    Arizonas  \n",
       "4                        815  76.52173913043478  California  "
      ]
     },
     "execution_count": 106,
     "metadata": {},
     "output_type": "execute_result"
    }
   ],
   "source": [
    "raw.head()"
   ]
  }
 ],
 "metadata": {
  "kernelspec": {
   "display_name": "Python 3",
   "language": "python",
   "name": "python3"
  },
  "language_info": {
   "codemirror_mode": {
    "name": "ipython",
    "version": 3
   },
   "file_extension": ".py",
   "mimetype": "text/x-python",
   "name": "python",
   "nbconvert_exporter": "python",
   "pygments_lexer": "ipython3",
   "version": "3.7.3"
  }
 },
 "nbformat": 4,
 "nbformat_minor": 2
}
